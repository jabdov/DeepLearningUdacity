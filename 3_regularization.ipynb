{
 "cells": [
  {
   "cell_type": "markdown",
   "metadata": {
    "colab_type": "text",
    "id": "kR-4eNdK6lYS"
   },
   "source": [
    "Deep Learning\n",
    "=============\n",
    "\n",
    "Assignment 3\n",
    "------------\n",
    "\n",
    "Previously in `2_fullyconnected.ipynb`, you trained a logistic regression and a neural network model.\n",
    "\n",
    "The goal of this assignment is to explore regularization techniques."
   ]
  },
  {
   "cell_type": "code",
   "execution_count": 353,
   "metadata": {
    "cellView": "both",
    "colab": {
     "autoexec": {
      "startup": false,
      "wait_interval": 0
     }
    },
    "colab_type": "code",
    "collapsed": true,
    "id": "JLpLa8Jt7Vu4"
   },
   "outputs": [],
   "source": [
    "# These are all the modules we'll be using later. Make sure you can import them\n",
    "# before proceeding further.\n",
    "from __future__ import print_function\n",
    "import math\n",
    "import numpy as np\n",
    "import matplotlib.pyplot as plt\n",
    "import tensorflow as tf\n",
    "from six.moves import cPickle as pickle"
   ]
  },
  {
   "cell_type": "markdown",
   "metadata": {
    "colab_type": "text",
    "id": "1HrCK6e17WzV"
   },
   "source": [
    "First reload the data we generated in `1_notmnist.ipynb`."
   ]
  },
  {
   "cell_type": "code",
   "execution_count": 16,
   "metadata": {
    "cellView": "both",
    "colab": {
     "autoexec": {
      "startup": false,
      "wait_interval": 0
     },
     "output_extras": [
      {
       "item_id": 1
      }
     ]
    },
    "colab_type": "code",
    "collapsed": false,
    "executionInfo": {
     "elapsed": 11777,
     "status": "ok",
     "timestamp": 1449849322348,
     "user": {
      "color": "",
      "displayName": "",
      "isAnonymous": false,
      "isMe": true,
      "permissionId": "",
      "photoUrl": "",
      "sessionId": "0",
      "userId": ""
     },
     "user_tz": 480
    },
    "id": "y3-cj1bpmuxc",
    "outputId": "e03576f1-ebbe-4838-c388-f1777bcc9873"
   },
   "outputs": [
    {
     "name": "stdout",
     "output_type": "stream",
     "text": [
      "Training set (200000, 28, 28) (200000,)\n",
      "Validation set (10000, 28, 28) (10000,)\n",
      "Test set (10000, 28, 28) (10000,)\n"
     ]
    }
   ],
   "source": [
    "pickle_file = 'notMNIST.pickle'\n",
    "\n",
    "with open(pickle_file, 'rb') as f:\n",
    "  save = pickle.load(f)\n",
    "  train_dataset = save['train_dataset']\n",
    "  train_labels = save['train_labels']\n",
    "  valid_dataset = save['valid_dataset']\n",
    "  valid_labels = save['valid_labels']\n",
    "  test_dataset = save['test_dataset']\n",
    "  test_labels = save['test_labels']\n",
    "  del save  # hint to help gc free up memory\n",
    "  print('Training set', train_dataset.shape, train_labels.shape)\n",
    "  print('Validation set', valid_dataset.shape, valid_labels.shape)\n",
    "  print('Test set', test_dataset.shape, test_labels.shape)"
   ]
  },
  {
   "cell_type": "markdown",
   "metadata": {
    "colab_type": "text",
    "id": "L7aHrm6nGDMB"
   },
   "source": [
    "Reformat into a shape that's more adapted to the models we're going to train:\n",
    "- data as a flat matrix,\n",
    "- labels as float 1-hot encodings."
   ]
  },
  {
   "cell_type": "code",
   "execution_count": 351,
   "metadata": {
    "cellView": "both",
    "colab": {
     "autoexec": {
      "startup": false,
      "wait_interval": 0
     },
     "output_extras": [
      {
       "item_id": 1
      }
     ]
    },
    "colab_type": "code",
    "collapsed": false,
    "executionInfo": {
     "elapsed": 11728,
     "status": "ok",
     "timestamp": 1449849322356,
     "user": {
      "color": "",
      "displayName": "",
      "isAnonymous": false,
      "isMe": true,
      "permissionId": "",
      "photoUrl": "",
      "sessionId": "0",
      "userId": ""
     },
     "user_tz": 480
    },
    "id": "IRSyYiIIGIzS",
    "outputId": "3f8996ee-3574-4f44-c953-5c8a04636582"
   },
   "outputs": [
    {
     "name": "stdout",
     "output_type": "stream",
     "text": [
      "Training set (200000, 784) (200000, 10)\n",
      "Development set (10000, 784) (10000, 10)\n",
      "Test set (10000, 784) (10000, 10)\n"
     ]
    }
   ],
   "source": [
    "image_size = 28\n",
    "num_labels = 10\n",
    "\n",
    "def reformat(dataset, labels):\n",
    "  dataset = dataset.reshape((-1, image_size * image_size)).astype(np.float32)\n",
    "  # Map 1 to [0.0, 1.0, 0.0 ...], 2 to [0.0, 0.0, 1.0 ...]\n",
    "  labels = (np.arange(num_labels) == labels[:,None]).astype(np.float32)\n",
    "  return dataset, labels\n",
    "X_train, Y_train = reformat(train_dataset, train_labels)\n",
    "X_dev, Y_dev = reformat(valid_dataset, valid_labels)\n",
    "X_test, Y_test = reformat(test_dataset, test_labels)\n",
    "print('Training set', X_train.shape, Y_train.shape)\n",
    "print('Development set', X_dev.shape, Y_dev.shape)\n",
    "print('Test set', X_test.shape, Y_test.shape)"
   ]
  },
  {
   "cell_type": "code",
   "execution_count": 308,
   "metadata": {
    "cellView": "both",
    "colab": {
     "autoexec": {
      "startup": false,
      "wait_interval": 0
     }
    },
    "colab_type": "code",
    "collapsed": true,
    "id": "RajPLaL_ZW6w"
   },
   "outputs": [],
   "source": [
    "def accuracy(predictions, labels):\n",
    "  return (100.0 * np.sum(np.argmax(predictions, 1) == np.argmax(labels, 1))\n",
    "          / predictions.shape[0])"
   ]
  },
  {
   "cell_type": "markdown",
   "metadata": {
    "colab_type": "text",
    "id": "sgLbUAQ1CW-1"
   },
   "source": [
    "---\n",
    "Problem 1\n",
    "---------\n",
    "\n",
    "Introduce and tune L2 regularization for both logistic and neural network models. Remember that L2 amounts to adding a penalty on the norm of the weights to the loss. In TensorFlow, you can compute the L2 loss for a tensor `t` using `nn.l2_loss(t)`. The right amount of regularization should improve your validation / test accuracy.\n",
    "\n",
    "---"
   ]
  },
  {
   "cell_type": "code",
   "execution_count": 313,
   "metadata": {
    "collapsed": false
   },
   "outputs": [],
   "source": [
    "# L2 regularization for logistic model - Graph setup\n",
    "\n",
    "batch_size = 128   # Batch size for SGD\n",
    "learning_rate = 0.5   # Learning rate\n",
    "lambd = 0.0001   # Regularization factor 0.0001\n",
    "\n",
    "graph = tf.Graph()\n",
    "with graph.as_default():\n",
    "\n",
    "  # Input data. For the training data, we use a placeholder that will be fed\n",
    "  # at run time with a training minibatch.\n",
    "  Xt = tf.placeholder(tf.float32, shape = (batch_size, image_size * image_size))\n",
    "  Yt = tf.placeholder(tf.float32, shape = (batch_size, num_labels))\n",
    "  Xd = tf.constant(X_dev)\n",
    "  Xs = tf.constant(X_test)\n",
    "\n",
    "  # Variables.\n",
    "  W = tf.Variable(tf.truncated_normal([image_size * image_size, num_labels]))\n",
    "  b = tf.Variable(tf.zeros([num_labels]))\n",
    "  \n",
    "  # Training computation.\n",
    "  Zt = tf.matmul(Xt, W) + b\n",
    "  cost = tf.reduce_mean(tf.nn.softmax_cross_entropy_with_logits(labels = Yt, logits = Zt))\n",
    "  l2_cost = lambd * tf.nn.l2_loss(W)\n",
    "  cost = cost + l2_cost\n",
    "\n",
    "  # Optimizer.\n",
    "  optimizer = tf.train.GradientDescentOptimizer(learning_rate = learning_rate).minimize(cost)\n",
    "  \n",
    "  # Predictions for the training, validation, and test data.\n",
    "  Yt_hat = tf.nn.softmax(Zt)\n",
    "  Yd_hat = tf.nn.softmax(tf.matmul(Xd, W) + b)\n",
    "  Ys_hat = tf.nn.softmax(tf.matmul(Xs, W) + b)"
   ]
  },
  {
   "cell_type": "code",
   "execution_count": 314,
   "metadata": {
    "collapsed": false
   },
   "outputs": [
    {
     "name": "stdout",
     "output_type": "stream",
     "text": [
      "Initialized\n",
      "Minibatch cost at step 0: 16.785881\n",
      "Minibatch accuracy: 6.2%\n",
      "Validation accuracy: 16.8%\n",
      "Minibatch cost at step 500: 2.288350\n",
      "Minibatch accuracy: 71.1%\n",
      "Validation accuracy: 75.6%\n",
      "Minibatch cost at step 1000: 1.466214\n",
      "Minibatch accuracy: 75.0%\n",
      "Validation accuracy: 77.0%\n",
      "Minibatch cost at step 1500: 1.541365\n",
      "Minibatch accuracy: 77.3%\n",
      "Validation accuracy: 78.1%\n",
      "Minibatch cost at step 2000: 0.996936\n",
      "Minibatch accuracy: 81.2%\n",
      "Validation accuracy: 77.4%\n",
      "Minibatch cost at step 2500: 1.333328\n",
      "Minibatch accuracy: 77.3%\n",
      "Validation accuracy: 79.3%\n",
      "Minibatch cost at step 3000: 0.961329\n",
      "Minibatch accuracy: 80.5%\n",
      "Validation accuracy: 79.6%\n",
      "Minibatch cost at step 3500: 0.613429\n",
      "Minibatch accuracy: 86.7%\n",
      "Validation accuracy: 79.5%\n",
      "Minibatch cost at step 4000: 1.190817\n",
      "Minibatch accuracy: 75.0%\n",
      "Validation accuracy: 80.4%\n",
      "Minibatch cost at step 4500: 0.725675\n",
      "Minibatch accuracy: 83.6%\n",
      "Validation accuracy: 80.7%\n",
      "Minibatch cost at step 5000: 0.574037\n",
      "Minibatch accuracy: 85.2%\n",
      "Validation accuracy: 81.0%\n",
      "Minibatch cost at step 5500: 1.136144\n",
      "Minibatch accuracy: 72.7%\n",
      "Validation accuracy: 80.9%\n",
      "Minibatch cost at step 6000: 0.954469\n",
      "Minibatch accuracy: 78.1%\n",
      "Validation accuracy: 81.2%\n",
      "Minibatch cost at step 6500: 0.830196\n",
      "Minibatch accuracy: 82.0%\n",
      "Validation accuracy: 80.7%\n",
      "Minibatch cost at step 7000: 0.840680\n",
      "Minibatch accuracy: 81.2%\n",
      "Validation accuracy: 81.7%\n",
      "Minibatch cost at step 7500: 0.714861\n",
      "Minibatch accuracy: 83.6%\n",
      "Validation accuracy: 81.2%\n",
      "Minibatch cost at step 8000: 0.755412\n",
      "Minibatch accuracy: 80.5%\n",
      "Validation accuracy: 82.0%\n",
      "Minibatch cost at step 8500: 0.796824\n",
      "Minibatch accuracy: 77.3%\n",
      "Validation accuracy: 81.7%\n",
      "Minibatch cost at step 9000: 0.644402\n",
      "Minibatch accuracy: 80.5%\n",
      "Validation accuracy: 82.0%\n",
      "Minibatch cost at step 9500: 0.967542\n",
      "Minibatch accuracy: 71.9%\n",
      "Validation accuracy: 81.2%\n",
      "Minibatch cost at step 10000: 0.842645\n",
      "Minibatch accuracy: 79.7%\n",
      "Validation accuracy: 81.9%\n",
      "Test accuracy: 88.5%\n"
     ]
    }
   ],
   "source": [
    "# L2 regularization for logistic model - Running graph\n",
    "\n",
    "num_steps = 10001\n",
    "\n",
    "with tf.Session(graph=graph) as session:\n",
    "  tf.global_variables_initializer().run()\n",
    "  print(\"Initialized\")\n",
    "  for step in range(num_steps):\n",
    "    # Pick an offset within the training data, which has been randomized.\n",
    "    # Note: we could use better randomization across epochs.\n",
    "    offset = (step * batch_size) % (train_labels.shape[0] - batch_size)\n",
    "    # Generate a minibatch.\n",
    "    batch_data = X_train[offset:(offset + batch_size), :]\n",
    "    batch_labels = Y_train[offset:(offset + batch_size), :]\n",
    "    # Run step\n",
    "    _, batch_cost_val, Yt_hat_val = session.run([optimizer, cost, Yt_hat], feed_dict = {Xt : batch_data, Yt : batch_labels})\n",
    "    if (step % 500 == 0):\n",
    "      print(\"Minibatch cost at step %d: %f\" % (step, batch_cost_val))\n",
    "      print(\"Minibatch accuracy: %.1f%%\" % accuracy(Yt_hat_val, batch_labels))\n",
    "      print(\"Validation accuracy: %.1f%%\" % accuracy(Yd_hat.eval(), Y_dev))\n",
    "  print(\"Test accuracy: %.1f%%\" % accuracy(Ys_hat.eval(), Y_test))"
   ]
  },
  {
   "cell_type": "markdown",
   "metadata": {},
   "source": [
    "---\n",
    "Now, let's try a neural network model.\n",
    "First, let's define some helper functions to create and run an L-layer neural network model\n",
    "\n",
    "---"
   ]
  },
  {
   "cell_type": "code",
   "execution_count": 366,
   "metadata": {
    "collapsed": true
   },
   "outputs": [],
   "source": [
    "def random_minibatches(X, Y, mini_batch_size = 64, seed = 0):\n",
    "    \"\"\"\n",
    "    Creates a list of random minibatches from (X, Y)\n",
    "    \n",
    "    Arguments:\n",
    "    X -- input data, of shape (number of examples, input size)\n",
    "    Y -- output data aka true \"label\" vector, of shape (number of examples, output size)\n",
    "    mini_batch_size -- size of the mini-batches, integer\n",
    "    \n",
    "    Returns:\n",
    "    mini_batches -- list of synchronous (mini_batch_X, mini_batch_Y)\n",
    "    \"\"\"\n",
    "    \n",
    "    np.random.seed(seed)            # to get consistent results\n",
    "    m = X.shape[0]                  # number of examples\n",
    "    mini_batches = []\n",
    "        \n",
    "    # Step 1: Shuffle (X, Y)\n",
    "    permutation = list(np.random.permutation(m))\n",
    "    shuffled_X = X[permutation, :]\n",
    "    shuffled_Y = Y[permutation, :]\n",
    "\n",
    "    # Step 2: Partition (shuffled_X, shuffled_Y). Minus the end case.\n",
    "    num_complete_minibatches = math.floor(m/mini_batch_size) # number of mini batches of size mini_batch_size in the partitionning\n",
    "    for k in range(0, num_complete_minibatches):\n",
    "        mini_batch_X = shuffled_X[k * mini_batch_size : (k+1) * mini_batch_size, :]\n",
    "        mini_batch_Y = shuffled_Y[k * mini_batch_size : (k+1) * mini_batch_size, :]\n",
    "        mini_batch = (mini_batch_X, mini_batch_Y)\n",
    "        mini_batches.append(mini_batch)\n",
    "    \n",
    "    # Handling the end case (last mini-batch < mini_batch_size)\n",
    "    if m % mini_batch_size != 0:\n",
    "        mini_batch_X = shuffled_X[num_complete_minibatches * mini_batch_size :, :]\n",
    "        mini_batch_Y = shuffled_Y[num_complete_minibatches * mini_batch_size :, : ]\n",
    "        mini_batch = (mini_batch_X, mini_batch_Y)\n",
    "        mini_batches.append(mini_batch)\n",
    "    \n",
    "    return mini_batches"
   ]
  },
  {
   "cell_type": "code",
   "execution_count": 367,
   "metadata": {
    "collapsed": false
   },
   "outputs": [
    {
     "name": "stdout",
     "output_type": "stream",
     "text": [
      "shape of the 1st minibatch_X: (128, 784)\n",
      "shape of the 2nd minibatch_X: (128, 784)\n",
      "shape of the 3rd minibatch_X: (128, 784)\n",
      "shape of the last minibatch_X: (64, 784)\n",
      "shape of the 1st minibatch_Y: (128, 10)\n",
      "shape of the 2nd minibatch_Y: (128, 10)\n",
      "shape of the 3rd minibatch_Y: (128, 10)\n",
      "shape of the last minibatch_Y: (64, 10)\n"
     ]
    }
   ],
   "source": [
    "# Try random_minibatches function \n",
    "\n",
    "minibatches = random_minibatches(X_train, Y_train, 128)\n",
    "\n",
    "print (\"shape of the 1st minibatch_X: \" + str(minibatches[0][0].shape))\n",
    "print (\"shape of the 2nd minibatch_X: \" + str(minibatches[1][0].shape))\n",
    "print (\"shape of the 3rd minibatch_X: \" + str(minibatches[2][0].shape))\n",
    "print (\"shape of the last minibatch_X: \" + str(minibatches[-1][0].shape))\n",
    "print (\"shape of the 1st minibatch_Y: \" + str(minibatches[0][1].shape))\n",
    "print (\"shape of the 2nd minibatch_Y: \" + str(minibatches[1][1].shape)) \n",
    "print (\"shape of the 3rd minibatch_Y: \" + str(minibatches[2][1].shape))\n",
    "print (\"shape of the last minibatch_Y: \" + str(minibatches[-1][1].shape))"
   ]
  },
  {
   "cell_type": "code",
   "execution_count": 315,
   "metadata": {
    "collapsed": true
   },
   "outputs": [],
   "source": [
    "def create_placeholders(n_x, n_y):\n",
    "    \"\"\"\n",
    "    Creates the placeholders for the tensorflow session\n",
    "    \n",
    "    Arguments:\n",
    "    n_x -- scalar, size of input vector\n",
    "    n_y -- scalar, size of output vector aka number of classes (from 0 to 5, so -> 6)\n",
    "    \n",
    "    Returns:\n",
    "    X -- placeholder for the data input, of shape (None, n_x) and dtype \"float\"\n",
    "    Y -- placeholder for the input labels, of shape (None, n_y) and dtype \"float\"\n",
    "    \n",
    "    Note:\n",
    "    - We will use None because it let's us be flexible on the number of examples you will for the placeholders\n",
    "    \"\"\"\n",
    "\n",
    "    X = tf.placeholder(tf.float32, shape = [None, n_x], name = 'X')\n",
    "    Y = tf.placeholder(tf.float32, shape = [None, n_y], name = 'Y')\n",
    "    \n",
    "    return X, Y"
   ]
  },
  {
   "cell_type": "code",
   "execution_count": 316,
   "metadata": {
    "collapsed": false
   },
   "outputs": [
    {
     "name": "stdout",
     "output_type": "stream",
     "text": [
      "X = Tensor(\"X:0\", shape=(?, 12288), dtype=float32)\n",
      "Y = Tensor(\"Y:0\", shape=(?, 6), dtype=float32)\n"
     ]
    }
   ],
   "source": [
    "# Try create_placeholders function \n",
    "\n",
    "tf.reset_default_graph()\n",
    "X, Y = create_placeholders(12288, 6)\n",
    "print (\"X = \" + str(X))\n",
    "print (\"Y = \" + str(Y))"
   ]
  },
  {
   "cell_type": "code",
   "execution_count": 317,
   "metadata": {
    "collapsed": false
   },
   "outputs": [],
   "source": [
    "def initialize_parameters(layer_dims):\n",
    "    \"\"\"\n",
    "    Initializes parameters to build a neural network with tensorflow\n",
    "    \n",
    "    Arguments:\n",
    "    layer_dims -- python array (list) containing the dimensions of each layer in our network\n",
    "    \n",
    "    Returns:\n",
    "    variables -- python dictionary containing tensors \"W1\", \"b1\", ..., \"WL\", \"bL\":\n",
    "                    Wl -- weight matrix of shape (layer_dims[l-1], layer_dims[l])\n",
    "                    bl -- bias vector of shape (layer_dims[l],)\n",
    "    \"\"\"\n",
    "    \n",
    "    tf.set_random_seed(1)                   # so to keep consistent results\n",
    "        \n",
    "    parameters = {}\n",
    "    L = len(layer_dims)            # number of layers in the network\n",
    "\n",
    "    for l in range(1, L):\n",
    "        parameters['W' + str(l)] = tf.Variable(tf.truncated_normal([layer_dims[l-1], layer_dims[l]]), name = 'W' + str(l))\n",
    "        parameters['b' + str(l)] = tf.Variable(tf.zeros([layer_dims[l]]), name = 'b' + str(l))\n",
    "        \n",
    "        assert(parameters['W' + str(l)].get_shape().as_list() == [layer_dims[l-1], layer_dims[l]])\n",
    "        assert(parameters['b' + str(l)].get_shape().as_list() == [layer_dims[l]])\n",
    "\n",
    "    return parameters  "
   ]
  },
  {
   "cell_type": "code",
   "execution_count": 318,
   "metadata": {
    "collapsed": false
   },
   "outputs": [
    {
     "name": "stdout",
     "output_type": "stream",
     "text": [
      "W1 = Tensor(\"W1/read:0\", shape=(5, 4), dtype=float32)\n",
      "b1 = Tensor(\"b1/read:0\", shape=(4,), dtype=float32)\n",
      "W2 = Tensor(\"W2/read:0\", shape=(4, 3), dtype=float32)\n",
      "b2 = Tensor(\"b2/read:0\", shape=(3,), dtype=float32)\n"
     ]
    }
   ],
   "source": [
    "# Try initialize_parameters function\n",
    "\n",
    "tf.reset_default_graph()\n",
    "parameters = initialize_parameters([5,4,3])\n",
    "print(\"W1 = \" + str(parameters[\"W1\"]))\n",
    "print(\"b1 = \" + str(parameters[\"b1\"]))\n",
    "print(\"W2 = \" + str(parameters[\"W2\"]))\n",
    "print(\"b2 = \" + str(parameters[\"b2\"]))"
   ]
  },
  {
   "cell_type": "code",
   "execution_count": 319,
   "metadata": {
    "collapsed": true
   },
   "outputs": [],
   "source": [
    "def forward_propagation(X, parameters):\n",
    "    \"\"\"\n",
    "    Implements the forward propagation for the model\n",
    "    \n",
    "    Arguments:\n",
    "    X -- input dataset placeholder, of shape (number of examples, input size)\n",
    "    parameters -- python dictionary containing your parameters \"W1\", \"b1\", \"W2\", \"b2\", \"W3\", \"b3\"\n",
    "                  the shapes are given in initialize_parameters\n",
    "\n",
    "    Returns:\n",
    "    Z -- the output of the last LINEAR unit\n",
    "    \"\"\"\n",
    "    \n",
    "    L = len(parameters) // 2\n",
    "    A = X\n",
    "    \n",
    "    for l in range(1, L):\n",
    "      Z = tf.add(tf.matmul(A, parameters['W' + str(l)]), parameters['b' + str(l)])\n",
    "      A = tf.nn.relu(Z)\n",
    "    \n",
    "    Z = tf.add(tf.matmul(A, parameters['W' + str(L)]), parameters['b' + str(L)])\n",
    "\n",
    "    return Z"
   ]
  },
  {
   "cell_type": "code",
   "execution_count": 320,
   "metadata": {
    "collapsed": false
   },
   "outputs": [
    {
     "name": "stdout",
     "output_type": "stream",
     "text": [
      "Z = Tensor(\"Add_2:0\", shape=(?, 6), dtype=float32)\n"
     ]
    }
   ],
   "source": [
    "# Try forward_propagation function\n",
    "\n",
    "tf.reset_default_graph()\n",
    "n_x = 12228\n",
    "n_y = 6\n",
    "with tf.Session() as sess:\n",
    "    X, Y = create_placeholders(n_x, n_y)\n",
    "    parameters = initialize_parameters([n_x, 30, 10, n_y])\n",
    "    Z = forward_propagation(X, parameters)\n",
    "    print(\"Z = \" + str(Z))"
   ]
  },
  {
   "cell_type": "code",
   "execution_count": 321,
   "metadata": {
    "collapsed": true
   },
   "outputs": [],
   "source": [
    "def compute_cost(Z, Y):\n",
    "    \"\"\"\n",
    "    Computes the cost\n",
    "    \n",
    "    Arguments:\n",
    "    Z -- output of forward propagation (output of the last LINEAR unit), of shape (number of examples, output size)\n",
    "    Y -- \"true\" labels vector placeholder, same shape as Z\n",
    "    \n",
    "    Returns:\n",
    "    cost - Tensor of the cost function\n",
    "    \"\"\"\n",
    "      \n",
    "    cost = tf.reduce_mean(tf.nn.softmax_cross_entropy_with_logits(logits = Z, labels = Y))\n",
    "    \n",
    "    return cost"
   ]
  },
  {
   "cell_type": "code",
   "execution_count": 299,
   "metadata": {
    "collapsed": false
   },
   "outputs": [
    {
     "name": "stdout",
     "output_type": "stream",
     "text": [
      "cost = Tensor(\"Mean:0\", shape=(), dtype=float32)\n"
     ]
    }
   ],
   "source": [
    "# Try compute_cost function\n",
    "\n",
    "tf.reset_default_graph()\n",
    "n_x = 12288\n",
    "n_y = 6\n",
    "with tf.Session() as sess:\n",
    "    X, Y = create_placeholders(n_x, n_y)\n",
    "    parameters = initialize_parameters([n_x, 30, 10, n_y])\n",
    "    Z = forward_propagation(X, parameters)\n",
    "    cost = compute_cost(Z, Y)\n",
    "    print(\"cost = \" + str(cost))"
   ]
  },
  {
   "cell_type": "code",
   "execution_count": 397,
   "metadata": {
    "collapsed": false
   },
   "outputs": [],
   "source": [
    "def dl_model(X_train, Y_train, X_dev, Y_dev, X_test, Y_test, layer_dims, learning_rate = 0.5,\n",
    "          num_epochs = 101, minibatch_size = 128, print_cost = True):\n",
    "    \"\"\"\n",
    "    Implements and trains a N-layer tensorflow neural network: LINEAR->RELU->LINEAR->RELU->...->LINEAR->SOFTMAX.\n",
    "    \n",
    "    Arguments:\n",
    "    X_train -- train set, of shape (m, n_x)\n",
    "    Y_train -- train labels, of shape (m, n_y)\n",
    "    X_dev -- dev set, of shape (m_dev, n_x)\n",
    "    Y_dev -- dev labels, of shape (m_dev, n_y)    \n",
    "    X_test -- test set, of shape (m_test, n_x)\n",
    "    Y_test -- test labels, of shape (m_test, n_y)\n",
    "    layer_dims -- python array (list) containing the dimensions of each layer in our network \n",
    "    learning_rate -- learning rate of the optimization\n",
    "    num_epochs -- number of epochs of the optimization loop\n",
    "    minibatch_size -- size of a minibatch\n",
    "    print_cost -- True to print the cost every epoch\n",
    "    \n",
    "    Returns:\n",
    "    parameters -- parameters learnt by the model. They can then be used to predict.\n",
    "    \"\"\"\n",
    "    \n",
    "    tf.reset_default_graph()\n",
    "    tf.set_random_seed(1)                             # to keep consistent results\n",
    "    seed = 3                                          # to keep consistent results\n",
    "    m = X_train.shape[0]                              # m : number of examples in the train set)\n",
    "    n_x, n_y = layer_dims[0], layer_dims[-1]          # n_x: input size, n_y : output size\n",
    "    num_minibatches = int(m / minibatch_size)         # number of minibatches of size minibatch_size in the train set\n",
    "    costs = []                                        # To keep track of the cost\n",
    "    \n",
    "    # Create Placeholders of shape (n_x, n_y) for training data batches \n",
    "    X, Y = create_placeholders(n_x, n_y)\n",
    "    \n",
    "    # Initialize parameters\n",
    "    parameters = initialize_parameters(layer_dims)\n",
    "    \n",
    "    # Forward propagation: Build the forward propagation in the tensorflow graph\n",
    "    Z = forward_propagation(X, parameters)\n",
    "    \n",
    "    # Predictions: Add predictions to tensorflow graph\n",
    "    Y_hat = tf.nn.softmax(Z)\n",
    "    \n",
    "    # Cost function: Add cost function to tensorflow graph\n",
    "    cost = compute_cost(Z, Y)\n",
    "    \n",
    "    # Backpropagation: Define the tensorflow optimizer. Use a GradientDescentOptimizer.\n",
    "    optimizer = tf.train.GradientDescentOptimizer(learning_rate = learning_rate).minimize(cost)\n",
    "    \n",
    "    # Initialize all the variables\n",
    "    init = tf.global_variables_initializer()\n",
    "\n",
    "    # Start the session to compute the tensorflow graph\n",
    "    with tf.Session() as sess:\n",
    "        \n",
    "        # Run the initialization\n",
    "        sess.run(init)\n",
    "        batch_cost = 0\n",
    "        n_minibatch = 0\n",
    "        \n",
    "        # Do the training loop\n",
    "        for epoch in range(num_epochs):\n",
    "            epoch_cost = 0.                           # Defines a cost related to an epoch\n",
    "            seed = seed + 1\n",
    "            minibatches = random_minibatches(X_train, Y_train, minibatch_size, seed)\n",
    "\n",
    "            for minibatch in minibatches:\n",
    "                # Select a minibatch\n",
    "                (minibatch_X, minibatch_Y) = minibatch\n",
    "                # Run step\n",
    "                _, minibatch_cost = sess.run([optimizer, cost], feed_dict = {X : minibatch_X, Y : minibatch_Y})\n",
    "                # Add minibatch cost to epoch cost\n",
    "                epoch_cost += minibatch_cost / num_minibatches\n",
    "                            \n",
    "            # Print the cost, train accuracy and dev accuracy every 100 minibatches\n",
    "            if print_cost == True:\n",
    "                print (\"Cost after epoch %i: %f\" % (epoch, epoch_cost))\n",
    "                costs.append(epoch_cost)\n",
    "                \n",
    "        # plot the cost\n",
    "        plt.plot(np.squeeze(costs))\n",
    "        plt.ylabel('cost')\n",
    "        plt.xlabel('epochs')\n",
    "        plt.title(\"Learning rate =\" + str(learning_rate))\n",
    "        plt.show()\n",
    "\n",
    "        # Save the parameters in a variable\n",
    "        parameters = sess.run(parameters)\n",
    "        print(\"Parameters have been trained!\")\n",
    "\n",
    "        # Calculate accuracy on the train, dev and test sets\n",
    "        print(\"Train accuracy: %.1f%%\" % accuracy(Y_hat.eval({X : X_train}), Y_train))\n",
    "        print(\"Dev accuracy: %.1f%%\" % accuracy(Y_hat.eval({X : X_dev}), Y_dev))\n",
    "        print(\"Test accuracy: %.1f%%\" % accuracy(Y_hat.eval({X : X_test}), Y_test))\n",
    "      \n",
    "    return parameters"
   ]
  },
  {
   "cell_type": "code",
   "execution_count": 382,
   "metadata": {
    "collapsed": false
   },
   "outputs": [
    {
     "name": "stdout",
     "output_type": "stream",
     "text": [
      "Cost after epoch 0: 21.551738\n",
      "Cost after epoch 1: 5.194298\n",
      "Cost after epoch 2: 3.199275\n",
      "Cost after epoch 3: 2.287248\n",
      "Cost after epoch 4: 1.755237\n",
      "Cost after epoch 5: 1.388625\n",
      "Cost after epoch 6: 1.197134\n",
      "Cost after epoch 7: 0.980969\n",
      "Cost after epoch 8: 0.837027\n",
      "Cost after epoch 9: 0.722353\n"
     ]
    },
    {
     "data": {
      "image/png": "[encoded data removed]",
      "text/plain": [
       "<matplotlib.figure.Figure at 0x2bf244766a0>"
      ]
     },
     "metadata": {},
     "output_type": "display_data"
    },
    {
     "name": "stdout",
     "output_type": "stream",
     "text": [
      "Parameters have been trained!\n",
      "Train accuracy: 89.1%\n",
      "Dev accuracy: 83.6%\n",
      "Test accuracy: 90.2%\n"
     ]
    }
   ],
   "source": [
    "# Let's start with suggested architecture and parameters: 2 layer nn model, 1024 hidden nodes, 10 epochs, minibatch size of 128 examples\n",
    "\n",
    "parameters = dl_model(X_train, Y_train, X_dev, Y_dev, X_test, Y_test, [X_train.shape[1], 1024, Y_train.shape[1]], \n",
    "                      learning_rate = 0.5, num_epochs = 10, minibatch_size = 128, print_cost = True)"
   ]
  },
  {
   "cell_type": "markdown",
   "metadata": {},
   "source": [
    "Note: From the much higher train accuracy than dev accuracy it seems we are overfitting"
   ]
  },
  {
   "cell_type": "code",
   "execution_count": 383,
   "metadata": {
    "collapsed": false
   },
   "outputs": [
    {
     "name": "stdout",
     "output_type": "stream",
     "text": [
      "Cost after epoch 0: 10.730956\n",
      "Cost after epoch 1: 2.767239\n",
      "Cost after epoch 2: 1.815728\n",
      "Cost after epoch 3: 1.387284\n",
      "Cost after epoch 4: 1.112699\n",
      "Cost after epoch 5: 0.940918\n",
      "Cost after epoch 6: 0.826081\n",
      "Cost after epoch 7: 0.748193\n",
      "Cost after epoch 8: 0.683355\n",
      "Cost after epoch 9: 0.626883\n"
     ]
    },
    {
     "data": {
      "image/png": "[encoded data removed]",
      "text/plain": [
       "<matplotlib.figure.Figure at 0x2bf20730ef0>"
      ]
     },
     "metadata": {},
     "output_type": "display_data"
    },
    {
     "name": "stdout",
     "output_type": "stream",
     "text": [
      "Parameters have been trained!\n",
      "Train accuracy: 86.8%\n",
      "Dev accuracy: 83.5%\n",
      "Test accuracy: 90.5%\n"
     ]
    }
   ],
   "source": [
    "# Let's try now a smaller nn, with 512 hidden nodes\n",
    "\n",
    "parameters = dl_model(X_train, Y_train, X_dev, Y_dev, X_test, Y_test, [X_train.shape[1], 512, Y_train.shape[1]], \n",
    "                      learning_rate = 0.5, num_epochs = 10, minibatch_size = 128, print_cost = True)"
   ]
  },
  {
   "cell_type": "markdown",
   "metadata": {},
   "source": [
    "Note: Train accuracy decreased, while dev accuracy and test accuracy did not change, keeping the same generalization power"
   ]
  },
  {
   "cell_type": "code",
   "execution_count": 395,
   "metadata": {
    "collapsed": false
   },
   "outputs": [
    {
     "name": "stdout",
     "output_type": "stream",
     "text": [
      "Cost after epoch 0: 1.383672\n",
      "Cost after epoch 1: 0.819415\n",
      "Cost after epoch 2: 0.739020\n",
      "Cost after epoch 3: 0.685040\n",
      "Cost after epoch 4: 0.647484\n",
      "Cost after epoch 5: 0.627352\n",
      "Cost after epoch 6: 0.605498\n",
      "Cost after epoch 7: 0.589485\n",
      "Cost after epoch 8: 0.577407\n",
      "Cost after epoch 9: 0.565940\n",
      "Cost after epoch 10: 0.555283\n",
      "Cost after epoch 11: 0.544711\n",
      "Cost after epoch 12: 0.537813\n",
      "Cost after epoch 13: 0.529557\n",
      "Cost after epoch 14: 0.523125\n",
      "Cost after epoch 15: 0.517912\n",
      "Cost after epoch 16: 0.512357\n",
      "Cost after epoch 17: 0.508426\n",
      "Cost after epoch 18: 0.503596\n",
      "Cost after epoch 19: 0.499364\n",
      "Cost after epoch 20: 0.494259\n",
      "Cost after epoch 21: 0.490642\n",
      "Cost after epoch 22: 0.487888\n",
      "Cost after epoch 23: 0.484528\n",
      "Cost after epoch 24: 0.480750\n",
      "Cost after epoch 25: 0.477680\n",
      "Cost after epoch 26: 0.474168\n",
      "Cost after epoch 27: 0.471827\n",
      "Cost after epoch 28: 0.469054\n",
      "Cost after epoch 29: 0.466784\n",
      "Cost after epoch 30: 0.464129\n",
      "Cost after epoch 31: 0.462066\n",
      "Cost after epoch 32: 0.459952\n",
      "Cost after epoch 33: 0.457626\n",
      "Cost after epoch 34: 0.455453\n",
      "Cost after epoch 35: 0.452670\n",
      "Cost after epoch 36: 0.451071\n",
      "Cost after epoch 37: 0.448530\n",
      "Cost after epoch 38: 0.447572\n",
      "Cost after epoch 39: 0.445476\n",
      "Cost after epoch 40: 0.443776\n",
      "Cost after epoch 41: 0.442331\n",
      "Cost after epoch 42: 0.440168\n",
      "Cost after epoch 43: 0.438494\n",
      "Cost after epoch 44: 0.437192\n",
      "Cost after epoch 45: 0.435853\n",
      "Cost after epoch 46: 0.434121\n",
      "Cost after epoch 47: 0.432752\n",
      "Cost after epoch 48: 0.431417\n",
      "Cost after epoch 49: 0.429680\n"
     ]
    },
    {
     "data": {
      "image/png": "[encoded data removed]",
      "text/plain": [
       "<matplotlib.figure.Figure at 0x2bf02463240>"
      ]
     },
     "metadata": {},
     "output_type": "display_data"
    },
    {
     "name": "stdout",
     "output_type": "stream",
     "text": [
      "Parameters have been trained!\n",
      "Train accuracy: 87.4%\n",
      "Dev accuracy: 86.1%\n",
      "Test accuracy: 92.2%\n"
     ]
    }
   ],
   "source": [
    "# Let's try now a smaller nn, with 32 hidden nodes, and longer training to ensure good fitting\n",
    "\n",
    "parameters = dl_model(X_train, Y_train, X_dev, Y_dev, X_test, Y_test, [X_train.shape[1], 32, Y_train.shape[1]], \n",
    "                      learning_rate = 0.5, num_epochs = 50, minibatch_size = 128, print_cost = True)"
   ]
  },
  {
   "cell_type": "markdown",
   "metadata": {},
   "source": [
    "Note: Train accuracy slightly increased and dev accuracy too, roughly at the same level, suggesting good generalization. But train accuracy worse than for nn with 1024 nodes, indicating the current nn is underfitting the train data"
   ]
  },
  {
   "cell_type": "code",
   "execution_count": 396,
   "metadata": {
    "collapsed": false
   },
   "outputs": [
    {
     "name": "stdout",
     "output_type": "stream",
     "text": [
      "Cost after epoch 0: 1.937023\n",
      "Cost after epoch 1: 0.896471\n",
      "Cost after epoch 2: 0.772267\n",
      "Cost after epoch 3: 0.708626\n",
      "Cost after epoch 4: 0.663766\n",
      "Cost after epoch 5: 0.634799\n",
      "Cost after epoch 6: 0.610056\n",
      "Cost after epoch 7: 0.591140\n",
      "Cost after epoch 8: 0.572960\n",
      "Cost after epoch 9: 0.560754\n",
      "Cost after epoch 10: 0.547978\n",
      "Cost after epoch 11: 0.535379\n",
      "Cost after epoch 12: 0.525649\n",
      "Cost after epoch 13: 0.515801\n",
      "Cost after epoch 14: 0.507126\n",
      "Cost after epoch 15: 0.500170\n",
      "Cost after epoch 16: 0.492982\n",
      "Cost after epoch 17: 0.486421\n",
      "Cost after epoch 18: 0.479643\n",
      "Cost after epoch 19: 0.474043\n",
      "Cost after epoch 20: 0.468987\n",
      "Cost after epoch 21: 0.463165\n",
      "Cost after epoch 22: 0.458661\n",
      "Cost after epoch 23: 0.454372\n",
      "Cost after epoch 24: 0.449544\n",
      "Cost after epoch 25: 0.446021\n",
      "Cost after epoch 26: 0.442316\n",
      "Cost after epoch 27: 0.437580\n",
      "Cost after epoch 28: 0.434186\n",
      "Cost after epoch 29: 0.431101\n",
      "Cost after epoch 30: 0.426939\n",
      "Cost after epoch 31: 0.424394\n",
      "Cost after epoch 32: 0.420992\n",
      "Cost after epoch 33: 0.418347\n",
      "Cost after epoch 34: 0.415022\n",
      "Cost after epoch 35: 0.411802\n",
      "Cost after epoch 36: 0.409481\n",
      "Cost after epoch 37: 0.406183\n",
      "Cost after epoch 38: 0.403877\n",
      "Cost after epoch 39: 0.401653\n",
      "Cost after epoch 40: 0.398991\n",
      "Cost after epoch 41: 0.396396\n",
      "Cost after epoch 42: 0.394543\n",
      "Cost after epoch 43: 0.392104\n",
      "Cost after epoch 44: 0.389590\n",
      "Cost after epoch 45: 0.387982\n",
      "Cost after epoch 46: 0.385739\n",
      "Cost after epoch 47: 0.383827\n",
      "Cost after epoch 48: 0.381264\n",
      "Cost after epoch 49: 0.379210\n"
     ]
    },
    {
     "data": {
      "image/png": "[encoded data removed]",
      "text/plain": [
       "<matplotlib.figure.Figure at 0x2bf05cbb160>"
      ]
     },
     "metadata": {},
     "output_type": "display_data"
    },
    {
     "name": "stdout",
     "output_type": "stream",
     "text": [
      "Parameters have been trained!\n",
      "Train accuracy: 88.9%\n",
      "Dev accuracy: 86.7%\n",
      "Test accuracy: 93.0%\n"
     ]
    }
   ],
   "source": [
    "# Let's try now a bigger nn, with 64 hidden nodes, same training\n",
    "\n",
    "parameters = dl_model(X_train, Y_train, X_dev, Y_dev, X_test, Y_test, [X_train.shape[1], 64, Y_train.shape[1]], \n",
    "                      learning_rate = 0.5, num_epochs = 50, minibatch_size = 128, print_cost = True)"
   ]
  },
  {
   "cell_type": "markdown",
   "metadata": {},
   "source": [
    "Note: Train accuracy slightly increased and dev accuracy too, with a wider gap now, suggesting slightly worse generalization"
   ]
  },
  {
   "cell_type": "code",
   "execution_count": 502,
   "metadata": {
    "collapsed": false
   },
   "outputs": [
    {
     "name": "stdout",
     "output_type": "stream",
     "text": [
      "Cost after epoch 0: 1.937023\n",
      "Cost after epoch 1: 0.896471\n",
      "Cost after epoch 2: 0.772267\n",
      "Cost after epoch 3: 0.708626\n",
      "Cost after epoch 4: 0.663766\n",
      "Cost after epoch 5: 0.634799\n",
      "Cost after epoch 6: 0.610056\n",
      "Cost after epoch 7: 0.591140\n",
      "Cost after epoch 8: 0.572960\n",
      "Cost after epoch 9: 0.560754\n",
      "Cost after epoch 10: 0.547978\n",
      "Cost after epoch 11: 0.535379\n",
      "Cost after epoch 12: 0.525649\n",
      "Cost after epoch 13: 0.515801\n",
      "Cost after epoch 14: 0.507126\n",
      "Cost after epoch 15: 0.500170\n",
      "Cost after epoch 16: 0.492982\n",
      "Cost after epoch 17: 0.486421\n",
      "Cost after epoch 18: 0.479643\n",
      "Cost after epoch 19: 0.474043\n",
      "Cost after epoch 20: 0.468987\n",
      "Cost after epoch 21: 0.463165\n",
      "Cost after epoch 22: 0.458661\n",
      "Cost after epoch 23: 0.454372\n",
      "Cost after epoch 24: 0.449544\n",
      "Cost after epoch 25: 0.446021\n",
      "Cost after epoch 26: 0.442316\n",
      "Cost after epoch 27: 0.437580\n",
      "Cost after epoch 28: 0.434186\n",
      "Cost after epoch 29: 0.431101\n",
      "Cost after epoch 30: 0.426939\n",
      "Cost after epoch 31: 0.424394\n",
      "Cost after epoch 32: 0.420992\n",
      "Cost after epoch 33: 0.418347\n",
      "Cost after epoch 34: 0.415022\n",
      "Cost after epoch 35: 0.411802\n",
      "Cost after epoch 36: 0.409481\n",
      "Cost after epoch 37: 0.406183\n",
      "Cost after epoch 38: 0.403877\n",
      "Cost after epoch 39: 0.401653\n",
      "Cost after epoch 40: 0.398991\n",
      "Cost after epoch 41: 0.396396\n",
      "Cost after epoch 42: 0.394543\n",
      "Cost after epoch 43: 0.392104\n",
      "Cost after epoch 44: 0.389590\n",
      "Cost after epoch 45: 0.387982\n",
      "Cost after epoch 46: 0.385739\n",
      "Cost after epoch 47: 0.383827\n",
      "Cost after epoch 48: 0.381264\n",
      "Cost after epoch 49: 0.379210\n",
      "Cost after epoch 50: 0.377321\n",
      "Cost after epoch 51: 0.375812\n",
      "Cost after epoch 52: 0.373657\n",
      "Cost after epoch 53: 0.372874\n",
      "Cost after epoch 54: 0.370699\n",
      "Cost after epoch 55: 0.367971\n",
      "Cost after epoch 56: 0.366989\n",
      "Cost after epoch 57: 0.365269\n",
      "Cost after epoch 58: 0.363287\n",
      "Cost after epoch 59: 0.361800\n",
      "Cost after epoch 60: 0.360161\n",
      "Cost after epoch 61: 0.358907\n",
      "Cost after epoch 62: 0.357157\n",
      "Cost after epoch 63: 0.355615\n",
      "Cost after epoch 64: 0.354137\n",
      "Cost after epoch 65: 0.353127\n",
      "Cost after epoch 66: 0.351697\n",
      "Cost after epoch 67: 0.349885\n",
      "Cost after epoch 68: 0.348781\n",
      "Cost after epoch 69: 0.347561\n",
      "Cost after epoch 70: 0.345802\n",
      "Cost after epoch 71: 0.344790\n",
      "Cost after epoch 72: 0.343383\n",
      "Cost after epoch 73: 0.341820\n",
      "Cost after epoch 74: 0.340940\n",
      "Cost after epoch 75: 0.339678\n",
      "Cost after epoch 76: 0.338700\n",
      "Cost after epoch 77: 0.336977\n",
      "Cost after epoch 78: 0.335687\n",
      "Cost after epoch 79: 0.334972\n",
      "Cost after epoch 80: 0.333426\n",
      "Cost after epoch 81: 0.332614\n",
      "Cost after epoch 82: 0.331658\n",
      "Cost after epoch 83: 0.330504\n",
      "Cost after epoch 84: 0.329318\n",
      "Cost after epoch 85: 0.328230\n",
      "Cost after epoch 86: 0.326793\n",
      "Cost after epoch 87: 0.325767\n",
      "Cost after epoch 88: 0.324760\n",
      "Cost after epoch 89: 0.323925\n",
      "Cost after epoch 90: 0.322816\n",
      "Cost after epoch 91: 0.321845\n",
      "Cost after epoch 92: 0.320160\n",
      "Cost after epoch 93: 0.319911\n",
      "Cost after epoch 94: 0.318628\n",
      "Cost after epoch 95: 0.317366\n",
      "Cost after epoch 96: 0.317088\n",
      "Cost after epoch 97: 0.315455\n",
      "Cost after epoch 98: 0.314880\n",
      "Cost after epoch 99: 0.314138\n"
     ]
    },
    {
     "data": {
      "image/png": "[encoded data removed]",
      "text/plain": [
       "<matplotlib.figure.Figure at 0x2bf22e15240>"
      ]
     },
     "metadata": {},
     "output_type": "display_data"
    },
    {
     "name": "stdout",
     "output_type": "stream",
     "text": [
      "Parameters have been trained!\n",
      "Train accuracy: 90.4%\n",
      "Dev accuracy: 86.7%\n",
      "Test accuracy: 92.8%\n"
     ]
    }
   ],
   "source": [
    "# Let's keep the same nn, but train it longer (50 -> 100 epochs)\n",
    "\n",
    "parameters = dl_model(X_train, Y_train, X_dev, Y_dev, X_test, Y_test, [X_train.shape[1], 64, Y_train.shape[1]], \n",
    "                      learning_rate = 0.5, num_epochs = 100, minibatch_size = 128, print_cost = True)"
   ]
  },
  {
   "cell_type": "markdown",
   "metadata": {},
   "source": [
    "Note: Train accuracy increased while dev accuracy did not change, widening the gap between them. This indicates worse generalization and overfitting"
   ]
  },
  {
   "cell_type": "code",
   "execution_count": 402,
   "metadata": {
    "collapsed": false
   },
   "outputs": [
    {
     "name": "stdout",
     "output_type": "stream",
     "text": [
      "Cost after epoch 0: 3.119677\n",
      "Cost after epoch 1: 1.080859\n",
      "Cost after epoch 2: 0.862111\n",
      "Cost after epoch 3: 0.759122\n",
      "Cost after epoch 4: 0.691599\n",
      "Cost after epoch 5: 0.652735\n",
      "Cost after epoch 6: 0.622093\n",
      "Cost after epoch 7: 0.593145\n",
      "Cost after epoch 8: 0.572894\n",
      "Cost after epoch 9: 0.557711\n",
      "Cost after epoch 10: 0.540436\n",
      "Cost after epoch 11: 0.526198\n",
      "Cost after epoch 12: 0.513652\n",
      "Cost after epoch 13: 0.503061\n",
      "Cost after epoch 14: 0.492580\n",
      "Cost after epoch 15: 0.483578\n",
      "Cost after epoch 16: 0.474524\n",
      "Cost after epoch 17: 0.466276\n",
      "Cost after epoch 18: 0.458571\n",
      "Cost after epoch 19: 0.450817\n",
      "Cost after epoch 20: 0.444414\n",
      "Cost after epoch 21: 0.437631\n",
      "Cost after epoch 22: 0.431279\n",
      "Cost after epoch 23: 0.425445\n",
      "Cost after epoch 24: 0.420338\n",
      "Cost after epoch 25: 0.414106\n",
      "Cost after epoch 26: 0.409407\n",
      "Cost after epoch 27: 0.403904\n",
      "Cost after epoch 28: 0.399169\n",
      "Cost after epoch 29: 0.394628\n",
      "Cost after epoch 30: 0.389673\n",
      "Cost after epoch 31: 0.385054\n",
      "Cost after epoch 32: 0.381582\n",
      "Cost after epoch 33: 0.375702\n",
      "Cost after epoch 34: 0.372280\n",
      "Cost after epoch 35: 0.367610\n",
      "Cost after epoch 36: 0.364534\n",
      "Cost after epoch 37: 0.359550\n",
      "Cost after epoch 38: 0.356779\n",
      "Cost after epoch 39: 0.352602\n",
      "Cost after epoch 40: 0.349321\n",
      "Cost after epoch 41: 0.346094\n",
      "Cost after epoch 42: 0.342219\n",
      "Cost after epoch 43: 0.338598\n",
      "Cost after epoch 44: 0.336511\n",
      "Cost after epoch 45: 0.332676\n",
      "Cost after epoch 46: 0.329593\n",
      "Cost after epoch 47: 0.326648\n",
      "Cost after epoch 48: 0.323050\n",
      "Cost after epoch 49: 0.320272\n",
      "Cost after epoch 50: 0.317047\n",
      "Cost after epoch 51: 0.314582\n",
      "Cost after epoch 52: 0.311398\n",
      "Cost after epoch 53: 0.308994\n",
      "Cost after epoch 54: 0.305479\n",
      "Cost after epoch 55: 0.302367\n",
      "Cost after epoch 56: 0.299571\n",
      "Cost after epoch 57: 0.297122\n",
      "Cost after epoch 58: 0.294714\n",
      "Cost after epoch 59: 0.291598\n",
      "Cost after epoch 60: 0.288938\n",
      "Cost after epoch 61: 0.287108\n",
      "Cost after epoch 62: 0.283576\n",
      "Cost after epoch 63: 0.281872\n",
      "Cost after epoch 64: 0.278878\n",
      "Cost after epoch 65: 0.277384\n",
      "Cost after epoch 66: 0.275153\n",
      "Cost after epoch 67: 0.271805\n",
      "Cost after epoch 68: 0.269514\n",
      "Cost after epoch 69: 0.267361\n",
      "Cost after epoch 70: 0.265422\n",
      "Cost after epoch 71: 0.262651\n",
      "Cost after epoch 72: 0.261160\n",
      "Cost after epoch 73: 0.258760\n",
      "Cost after epoch 74: 0.255993\n",
      "Cost after epoch 75: 0.254208\n",
      "Cost after epoch 76: 0.251963\n",
      "Cost after epoch 77: 0.249795\n",
      "Cost after epoch 78: 0.247551\n",
      "Cost after epoch 79: 0.245794\n",
      "Cost after epoch 80: 0.243980\n",
      "Cost after epoch 81: 0.242711\n",
      "Cost after epoch 82: 0.239275\n",
      "Cost after epoch 83: 0.238443\n",
      "Cost after epoch 84: 0.236252\n",
      "Cost after epoch 85: 0.234163\n",
      "Cost after epoch 86: 0.232926\n",
      "Cost after epoch 87: 0.230165\n",
      "Cost after epoch 88: 0.228388\n",
      "Cost after epoch 89: 0.226992\n",
      "Cost after epoch 90: 0.225317\n",
      "Cost after epoch 91: 0.223925\n",
      "Cost after epoch 92: 0.220981\n",
      "Cost after epoch 93: 0.220081\n",
      "Cost after epoch 94: 0.218086\n",
      "Cost after epoch 95: 0.216155\n",
      "Cost after epoch 96: 0.214986\n",
      "Cost after epoch 97: 0.213639\n",
      "Cost after epoch 98: 0.211559\n",
      "Cost after epoch 99: 0.209959\n"
     ]
    },
    {
     "data": {
      "image/png": "[encoded data removed]",
      "text/plain": [
       "<matplotlib.figure.Figure at 0x2bf048cd0b8>"
      ]
     },
     "metadata": {},
     "output_type": "display_data"
    },
    {
     "name": "stdout",
     "output_type": "stream",
     "text": [
      "Parameters have been trained!\n",
      "Train accuracy: 93.9%\n",
      "Dev accuracy: 86.8%\n",
      "Test accuracy: 92.8%\n"
     ]
    }
   ],
   "source": [
    "# Let's try now a bigger nn, with 128 hidden nodes, same training\n",
    "\n",
    "parameters = dl_model(X_train, Y_train, X_dev, Y_dev, X_test, Y_test, [X_train.shape[1], 128, Y_train.shape[1]], \n",
    "                      learning_rate = 0.5, num_epochs = 100, minibatch_size = 128, print_cost = True)"
   ]
  },
  {
   "cell_type": "markdown",
   "metadata": {},
   "source": [
    "Note: Train accuracy increased while dev accuracy did not change, widening the gap between them. This indicates worse generalization and overfitting"
   ]
  },
  {
   "cell_type": "code",
   "execution_count": 410,
   "metadata": {
    "collapsed": false
   },
   "outputs": [
    {
     "name": "stdout",
     "output_type": "stream",
     "text": [
      "Cost after epoch 0: 1.801926\n",
      "Cost after epoch 1: 1.099042\n",
      "Cost after epoch 2: 0.823049\n",
      "Cost after epoch 3: 0.714576\n",
      "Cost after epoch 4: 0.673072\n",
      "Cost after epoch 5: 0.638758\n",
      "Cost after epoch 6: 0.622359\n",
      "Cost after epoch 7: 0.610214\n",
      "Cost after epoch 8: 0.614193\n",
      "Cost after epoch 9: 0.593104\n",
      "Cost after epoch 10: 0.565432\n",
      "Cost after epoch 11: 0.561413\n",
      "Cost after epoch 12: 0.553939\n",
      "Cost after epoch 13: 0.547320\n",
      "Cost after epoch 14: 0.541471\n",
      "Cost after epoch 15: 0.545095\n",
      "Cost after epoch 16: 0.552339\n",
      "Cost after epoch 17: 0.529577\n",
      "Cost after epoch 18: 0.525496\n",
      "Cost after epoch 19: 0.522148\n",
      "Cost after epoch 20: 0.518752\n",
      "Cost after epoch 21: 0.514842\n",
      "Cost after epoch 22: 0.511222\n",
      "Cost after epoch 23: 0.505823\n",
      "Cost after epoch 24: 0.503309\n",
      "Cost after epoch 25: 0.503211\n",
      "Cost after epoch 26: 0.498097\n",
      "Cost after epoch 27: 0.495390\n",
      "Cost after epoch 28: 0.492957\n",
      "Cost after epoch 29: 0.490854\n",
      "Cost after epoch 30: 0.489284\n",
      "Cost after epoch 31: 0.487614\n",
      "Cost after epoch 32: 0.487017\n",
      "Cost after epoch 33: 0.483794\n",
      "Cost after epoch 34: 0.482143\n",
      "Cost after epoch 35: 0.479934\n",
      "Cost after epoch 36: 0.478985\n",
      "Cost after epoch 37: 0.476749\n",
      "Cost after epoch 38: 0.475705\n",
      "Cost after epoch 39: 0.474231\n",
      "Cost after epoch 40: 0.473001\n",
      "Cost after epoch 41: 0.471441\n",
      "Cost after epoch 42: 0.470074\n",
      "Cost after epoch 43: 0.468905\n",
      "Cost after epoch 44: 0.467218\n",
      "Cost after epoch 45: 0.467486\n",
      "Cost after epoch 46: 0.465797\n",
      "Cost after epoch 47: 0.463952\n",
      "Cost after epoch 48: 0.462623\n",
      "Cost after epoch 49: 0.461699\n"
     ]
    },
    {
     "data": {
      "image/png": "[encoded data removed]",
      "text/plain": [
       "<matplotlib.figure.Figure at 0x2bf01cf97f0>"
      ]
     },
     "metadata": {},
     "output_type": "display_data"
    },
    {
     "name": "stdout",
     "output_type": "stream",
     "text": [
      "Parameters have been trained!\n",
      "Train accuracy: 85.6%\n",
      "Dev accuracy: 85.6%\n",
      "Test accuracy: 91.6%\n"
     ]
    }
   ],
   "source": [
    "# Let's try now a different nn architecture, with 2 hidden layers with 64 nodes each. Adjusted learning rate to 0.3\n",
    "\n",
    "parameters = dl_model(X_train, Y_train, X_dev, Y_dev, X_test, Y_test, [X_train.shape[1], 32, 32, Y_train.shape[1]], \n",
    "                      learning_rate = 0.3, num_epochs = 50, minibatch_size = 128, print_cost = True)"
   ]
  },
  {
   "cell_type": "markdown",
   "metadata": {},
   "source": [
    "Note: Train accuracy worsened significantly while dev accuracy only slightly, now matching the same train accuracy level. This indicates good generalization but underfitting"
   ]
  },
  {
   "cell_type": "code",
   "execution_count": 418,
   "metadata": {
    "collapsed": false
   },
   "outputs": [
    {
     "name": "stdout",
     "output_type": "stream",
     "text": [
      "Cost after epoch 0: 5.703082\n",
      "Cost after epoch 1: 1.578515\n",
      "Cost after epoch 2: 1.144659\n",
      "Cost after epoch 3: 0.937617\n",
      "Cost after epoch 4: 0.814286\n",
      "Cost after epoch 5: 0.737320\n",
      "Cost after epoch 6: 0.683787\n",
      "Cost after epoch 7: 0.637676\n",
      "Cost after epoch 8: 0.602730\n",
      "Cost after epoch 9: 0.572667\n",
      "Cost after epoch 10: 0.553482\n",
      "Cost after epoch 11: 0.530154\n",
      "Cost after epoch 12: 0.507685\n",
      "Cost after epoch 13: 0.492655\n",
      "Cost after epoch 14: 0.478889\n",
      "Cost after epoch 15: 0.462445\n",
      "Cost after epoch 16: 0.450170\n",
      "Cost after epoch 17: 0.438981\n",
      "Cost after epoch 18: 0.426893\n",
      "Cost after epoch 19: 0.413726\n",
      "Cost after epoch 20: 0.405120\n",
      "Cost after epoch 21: 0.393208\n",
      "Cost after epoch 22: 0.385590\n",
      "Cost after epoch 23: 0.376005\n",
      "Cost after epoch 24: 0.368319\n",
      "Cost after epoch 25: 0.359218\n",
      "Cost after epoch 26: 0.350444\n",
      "Cost after epoch 27: 0.342320\n",
      "Cost after epoch 28: 0.333938\n",
      "Cost after epoch 29: 0.327346\n",
      "Cost after epoch 30: 0.320506\n",
      "Cost after epoch 31: 0.312788\n",
      "Cost after epoch 32: 0.307141\n",
      "Cost after epoch 33: 0.299889\n",
      "Cost after epoch 34: 0.293065\n",
      "Cost after epoch 35: 0.288544\n",
      "Cost after epoch 36: 0.281590\n",
      "Cost after epoch 37: 0.275265\n",
      "Cost after epoch 38: 0.268917\n",
      "Cost after epoch 39: 0.264131\n",
      "Cost after epoch 40: 0.256598\n",
      "Cost after epoch 41: 0.252971\n",
      "Cost after epoch 42: 0.247857\n",
      "Cost after epoch 43: 0.242814\n",
      "Cost after epoch 44: 0.237679\n",
      "Cost after epoch 45: 0.233055\n",
      "Cost after epoch 46: 0.229722\n",
      "Cost after epoch 47: 0.224852\n",
      "Cost after epoch 48: 0.219860\n",
      "Cost after epoch 49: 0.216446\n",
      "Cost after epoch 50: 0.211299\n",
      "Cost after epoch 51: 0.207425\n",
      "Cost after epoch 52: 0.204224\n",
      "Cost after epoch 53: 0.200970\n",
      "Cost after epoch 54: 0.195504\n",
      "Cost after epoch 55: 0.191898\n",
      "Cost after epoch 56: 0.189480\n",
      "Cost after epoch 57: 0.186067\n",
      "Cost after epoch 58: 0.182478\n",
      "Cost after epoch 59: 0.178785\n",
      "Cost after epoch 60: 0.174801\n",
      "Cost after epoch 61: 0.172913\n",
      "Cost after epoch 62: 0.167940\n",
      "Cost after epoch 63: 0.166656\n",
      "Cost after epoch 64: 0.163677\n",
      "Cost after epoch 65: 0.160102\n",
      "Cost after epoch 66: 0.158236\n",
      "Cost after epoch 67: 0.154075\n",
      "Cost after epoch 68: 0.152263\n",
      "Cost after epoch 69: 0.150014\n",
      "Cost after epoch 70: 0.146981\n",
      "Cost after epoch 71: 0.144733\n",
      "Cost after epoch 72: 0.143121\n",
      "Cost after epoch 73: 0.141548\n",
      "Cost after epoch 74: 0.140517\n",
      "Cost after epoch 75: 0.137197\n",
      "Cost after epoch 76: 0.134102\n",
      "Cost after epoch 77: 0.131104\n",
      "Cost after epoch 78: 0.130581\n",
      "Cost after epoch 79: 0.125579\n",
      "Cost after epoch 80: 0.124937\n",
      "Cost after epoch 81: 0.123088\n",
      "Cost after epoch 82: 0.122222\n",
      "Cost after epoch 83: 0.121971\n",
      "Cost after epoch 84: 0.119603\n",
      "Cost after epoch 85: 0.117784\n",
      "Cost after epoch 86: 0.115478\n",
      "Cost after epoch 87: 0.112927\n",
      "Cost after epoch 88: 0.112065\n",
      "Cost after epoch 89: 0.111058\n",
      "Cost after epoch 90: 0.113519\n",
      "Cost after epoch 91: 0.111397\n",
      "Cost after epoch 92: 0.107409\n",
      "Cost after epoch 93: 0.106040\n",
      "Cost after epoch 94: 0.106405\n",
      "Cost after epoch 95: 0.102556\n",
      "Cost after epoch 96: 0.100629\n",
      "Cost after epoch 97: 0.099864\n",
      "Cost after epoch 98: 0.099634\n",
      "Cost after epoch 99: 0.096440\n"
     ]
    },
    {
     "data": {
      "image/png": "[encoded data removed]",
      "text/plain": [
       "<matplotlib.figure.Figure at 0x2bf23f8eb70>"
      ]
     },
     "metadata": {},
     "output_type": "display_data"
    },
    {
     "name": "stdout",
     "output_type": "stream",
     "text": [
      "Parameters have been trained!\n",
      "Train accuracy: 97.3%\n",
      "Dev accuracy: 87.2%\n",
      "Test accuracy: 93.2%\n"
     ]
    }
   ],
   "source": [
    "# Let's get back to the 1 hidden layer model, now with 256 hidden nodes. Adjusted learnig rate to original value: 0.5\n",
    "\n",
    "parameters = dl_model(X_train, Y_train, X_dev, Y_dev, X_test, Y_test, [X_train.shape[1], 256, Y_train.shape[1]], \n",
    "                      learning_rate = 0.5, num_epochs = 100, minibatch_size = 128, print_cost = True)"
   ]
  },
  {
   "cell_type": "markdown",
   "metadata": {},
   "source": [
    "Note: Train accuracy improved significantly (highest value so far) while dev accuracy only slightly, having a wide gap between them. This indicates poor generalization and overfitting"
   ]
  },
  {
   "cell_type": "code",
   "execution_count": null,
   "metadata": {
    "collapsed": false
   },
   "outputs": [
    {
     "name": "stdout",
     "output_type": "stream",
     "text": [
      "Cost after epoch 0: 10.730956\n",
      "Cost after epoch 1: 2.767239\n",
      "Cost after epoch 2: 1.815728\n",
      "Cost after epoch 3: 1.387284\n",
      "Cost after epoch 4: 1.112699\n",
      "Cost after epoch 5: 0.940918\n",
      "Cost after epoch 6: 0.826081\n",
      "Cost after epoch 7: 0.748193\n",
      "Cost after epoch 8: 0.683355\n",
      "Cost after epoch 9: 0.626883\n",
      "Cost after epoch 10: 0.583524\n",
      "Cost after epoch 11: 0.529931\n",
      "Cost after epoch 12: 0.504122\n",
      "Cost after epoch 13: 0.472409\n",
      "Cost after epoch 19: 0.330234\n",
      "Cost after epoch 20: 0.314598\n",
      "Cost after epoch 21: 0.300874\n",
      "Cost after epoch 22: 0.277260\n",
      "Cost after epoch 23: 0.270458\n",
      "Cost after epoch 24: 0.254703\n",
      "Cost after epoch 25: 0.240674\n",
      "Cost after epoch 26: 0.230573\n",
      "Cost after epoch 27: 0.220967\n",
      "Cost after epoch 28: 0.213338\n",
      "Cost after epoch 29: 0.206951\n",
      "Cost after epoch 30: 0.195880\n",
      "Cost after epoch 31: 0.191332\n",
      "Cost after epoch 32: 0.179438\n",
      "Cost after epoch 33: 0.172793\n",
      "Cost after epoch 34: 0.165726\n",
      "Cost after epoch 35: 0.160065\n",
      "Cost after epoch 36: 0.157099\n",
      "Cost after epoch 37: 0.150124\n",
      "Cost after epoch 38: 0.144505\n",
      "Cost after epoch 39: 0.140497\n",
      "Cost after epoch 40: 0.132270\n",
      "Cost after epoch 41: 0.130346\n",
      "Cost after epoch 42: 0.128004\n",
      "Cost after epoch 43: 0.127606\n",
      "Cost after epoch 44: 0.121005\n",
      "Cost after epoch 45: 0.115613\n",
      "Cost after epoch 46: 0.112306\n",
      "Cost after epoch 47: 0.107877\n",
      "Cost after epoch 48: 0.106523\n",
      "Cost after epoch 49: 0.106224\n",
      "Cost after epoch 50: 0.104442\n",
      "Cost after epoch 51: 0.100635\n",
      "Cost after epoch 52: 0.096280\n",
      "Cost after epoch 53: 0.097488\n",
      "Cost after epoch 54: 0.091555\n",
      "Cost after epoch 55: 0.088265\n",
      "Cost after epoch 56: 0.087435\n",
      "Cost after epoch 57: 0.085963\n",
      "Cost after epoch 58: 0.085368\n",
      "Cost after epoch 59: 0.083717\n",
      "Cost after epoch 60: 0.081307\n",
      "Cost after epoch 61: 0.078811\n",
      "Cost after epoch 62: 0.079384\n",
      "Cost after epoch 63: 0.077724\n",
      "Cost after epoch 64: 0.075344\n",
      "Cost after epoch 65: 0.074412\n",
      "Cost after epoch 66: 0.073375\n",
      "Cost after epoch 67: 0.074402\n",
      "Cost after epoch 68: 0.073199\n",
      "Cost after epoch 69: 0.072200\n",
      "Cost after epoch 70: 0.071634\n",
      "Cost after epoch 71: 0.069444\n",
      "Cost after epoch 72: 0.070069\n",
      "Cost after epoch 73: 0.067566\n",
      "Cost after epoch 74: 0.069463\n",
      "Cost after epoch 75: 0.063594\n",
      "Cost after epoch 76: 0.064484\n",
      "Cost after epoch 77: 0.065187\n",
      "Cost after epoch 78: 0.061951\n",
      "Cost after epoch 79: 0.057858\n",
      "Cost after epoch 80: 0.059669\n",
      "Cost after epoch 81: 0.061912\n",
      "Cost after epoch 82: 0.055981\n",
      "Cost after epoch 83: 0.058838\n",
      "Cost after epoch 84: 0.057134\n",
      "Cost after epoch 85: 0.055959\n",
      "Cost after epoch 86: 0.056651\n",
      "Cost after epoch 87: 0.053829\n",
      "Cost after epoch 88: 0.054713\n",
      "Cost after epoch 89: 0.054487\n",
      "Cost after epoch 90: 0.054159\n",
      "Cost after epoch 91: 0.052075\n",
      "Cost after epoch 92: 0.053178\n",
      "Cost after epoch 93: 0.052637\n",
      "Cost after epoch 94: 0.051553\n",
      "Cost after epoch 95: 0.049852\n",
      "Cost after epoch 96: 0.050292\n",
      "Cost after epoch 97: 0.050623\n",
      "Cost after epoch 98: 0.049628\n",
      "Cost after epoch 99: 0.050142\n"
     ]
    },
    {
     "data": {
      "image/png": "[encoded data removed]",
      "text/plain": [
       "<matplotlib.figure.Figure at 0x2bf00f8a7b8>"
      ]
     },
     "metadata": {},
     "output_type": "display_data"
    },
    {
     "name": "stdout",
     "output_type": "stream",
     "text": [
      "Parameters have been trained!\n",
      "Train accuracy: 98.9%\n",
      "Dev accuracy: 87.2%\n",
      "Test accuracy: 93.0%\n"
     ]
    }
   ],
   "source": [
    "# Let's try now even a bigger nn, with 512 hidden nodes\n",
    "\n",
    "parameters = dl_model(X_train, Y_train, X_dev, Y_dev, X_test, Y_test, [X_train.shape[1], 512, Y_train.shape[1]], \n",
    "                      learning_rate = 0.5, num_epochs = 100, minibatch_size = 128, print_cost = True)"
   ]
  },
  {
   "cell_type": "markdown",
   "metadata": {},
   "source": [
    "Note: as expected, train accuracy increased (highest value so far) but dev accuracy stayed at the same level, widering even further the gap. This indicates poor generalization and overfitting"
   ]
  },
  {
   "cell_type": "code",
   "execution_count": 420,
   "metadata": {
    "collapsed": false
   },
   "outputs": [
    {
     "name": "stdout",
     "output_type": "stream",
     "text": [
      "Cost after epoch 0: 21.551738\n",
      "Cost after epoch 1: 5.194298\n",
      "Cost after epoch 2: 3.199275\n",
      "Cost after epoch 3: 2.287248\n",
      "Cost after epoch 4: 1.755237\n",
      "Cost after epoch 5: 1.388625\n",
      "Cost after epoch 6: 1.197134\n",
      "Cost after epoch 7: 0.980969\n",
      "Cost after epoch 8: 0.837027\n",
      "Cost after epoch 9: 0.722353\n",
      "Cost after epoch 10: 0.630789\n",
      "Cost after epoch 11: 0.536240\n",
      "Cost after epoch 12: 0.472118\n",
      "Cost after epoch 13: 0.434201\n",
      "Cost after epoch 14: 0.381772\n",
      "Cost after epoch 15: 0.324994\n",
      "Cost after epoch 16: 0.294947\n",
      "Cost after epoch 17: 0.272669\n",
      "Cost after epoch 18: 0.242927\n",
      "Cost after epoch 19: 0.222170\n",
      "Cost after epoch 20: 0.218595\n",
      "Cost after epoch 21: 0.188100\n",
      "Cost after epoch 22: 0.172486\n",
      "Cost after epoch 23: 0.169256\n",
      "Cost after epoch 24: 0.150445\n",
      "Cost after epoch 25: 0.145297\n",
      "Cost after epoch 26: 0.134449\n",
      "Cost after epoch 27: 0.125806\n",
      "Cost after epoch 28: 0.119529\n",
      "Cost after epoch 29: 0.112232\n",
      "Cost after epoch 30: 0.099929\n",
      "Cost after epoch 31: 0.096786\n",
      "Cost after epoch 32: 0.097321\n",
      "Cost after epoch 33: 0.091476\n",
      "Cost after epoch 34: 0.091713\n",
      "Cost after epoch 35: 0.087479\n",
      "Cost after epoch 36: 0.089918\n",
      "Cost after epoch 37: 0.085040\n",
      "Cost after epoch 38: 0.084005\n",
      "Cost after epoch 39: 0.079931\n",
      "Cost after epoch 40: 0.074278\n",
      "Cost after epoch 41: 0.073157\n",
      "Cost after epoch 42: 0.072157\n",
      "Cost after epoch 43: 0.069999\n",
      "Cost after epoch 44: 0.065376\n",
      "Cost after epoch 45: 0.065646\n",
      "Cost after epoch 46: 0.067933\n",
      "Cost after epoch 47: 0.064041\n",
      "Cost after epoch 48: 0.062125\n",
      "Cost after epoch 49: 0.064462\n",
      "Cost after epoch 50: 0.060569\n",
      "Cost after epoch 51: 0.062789\n",
      "Cost after epoch 52: 0.061560\n",
      "Cost after epoch 53: 0.062005\n",
      "Cost after epoch 54: 0.057683\n",
      "Cost after epoch 55: 0.053754\n",
      "Cost after epoch 56: 0.052210\n",
      "Cost after epoch 57: 0.052240\n",
      "Cost after epoch 58: 0.050306\n",
      "Cost after epoch 59: 0.050161\n",
      "Cost after epoch 60: 0.050597\n",
      "Cost after epoch 61: 0.048778\n",
      "Cost after epoch 62: 0.048850\n",
      "Cost after epoch 63: 0.048342\n",
      "Cost after epoch 64: 0.047935\n",
      "Cost after epoch 65: 0.050696\n",
      "Cost after epoch 66: 0.046904\n",
      "Cost after epoch 67: 0.045867\n",
      "Cost after epoch 68: 0.046374\n",
      "Cost after epoch 69: 0.045650\n",
      "Cost after epoch 70: 0.046522\n",
      "Cost after epoch 71: 0.043234\n",
      "Cost after epoch 72: 0.043550\n",
      "Cost after epoch 73: 0.042407\n",
      "Cost after epoch 74: 0.042769\n",
      "Cost after epoch 75: 0.041949\n",
      "Cost after epoch 76: 0.042555\n",
      "Cost after epoch 77: 0.041028\n",
      "Cost after epoch 78: 0.041044\n",
      "Cost after epoch 79: 0.039468\n",
      "Cost after epoch 80: 0.041041\n",
      "Cost after epoch 81: 0.039260\n",
      "Cost after epoch 82: 0.037240\n",
      "Cost after epoch 83: 0.037632\n",
      "Cost after epoch 84: 0.037038\n",
      "Cost after epoch 85: 0.035122\n",
      "Cost after epoch 86: 0.036235\n",
      "Cost after epoch 87: 0.035271\n",
      "Cost after epoch 88: 0.036486\n",
      "Cost after epoch 89: 0.037874\n",
      "Cost after epoch 90: 0.036275\n",
      "Cost after epoch 91: 0.036437\n",
      "Cost after epoch 92: 0.036366\n",
      "Cost after epoch 93: 0.033668\n",
      "Cost after epoch 94: 0.036976\n",
      "Cost after epoch 95: 0.034592\n",
      "Cost after epoch 96: 0.034000\n",
      "Cost after epoch 97: 0.034349\n",
      "Cost after epoch 98: 0.034135\n",
      "Cost after epoch 99: 0.033027\n"
     ]
    },
    {
     "data": {
      "image/png": "[encoded data removed]",
      "text/plain": [
       "<matplotlib.figure.Figure at 0x2bf20730400>"
      ]
     },
     "metadata": {},
     "output_type": "display_data"
    },
    {
     "name": "stdout",
     "output_type": "stream",
     "text": [
      "Parameters have been trained!\n",
      "Train accuracy: 99.4%\n",
      "Dev accuracy: 87.8%\n",
      "Test accuracy: 93.8%\n"
     ]
    }
   ],
   "source": [
    "#Let's go back to the original nn with 1024 hidden nodes, now with longer training\n",
    "\n",
    "parameters = dl_model(X_train, Y_train, X_dev, Y_dev, X_test, Y_test, [X_train.shape[1], 1024, Y_train.shape[1]], \n",
    "                      learning_rate = 0.5, num_epochs = 100, minibatch_size = 128, print_cost = True)"
   ]
  },
  {
   "cell_type": "markdown",
   "metadata": {},
   "source": [
    "Note: as expected, train accuracy increased (highest value so far) but dev accuracy stayed at the same level, widering even further the gap. This indicates poor generalization and overfitting"
   ]
  },
  {
   "cell_type": "markdown",
   "metadata": {},
   "source": [
    "Now, let's define some helper functions to add L2 regularization to tackle overfitting and improve generalization"
   ]
  },
  {
   "cell_type": "code",
   "execution_count": 423,
   "metadata": {
    "collapsed": true
   },
   "outputs": [],
   "source": [
    "def compute_cost_L2_reg(Z, Y, parameters, lambd = 0.0001):\n",
    "    \"\"\"\n",
    "    Computes the cost with L2 regularization\n",
    "    \n",
    "    Arguments:\n",
    "    Z -- output of forward propagation (output of the last LINEAR unit), of shape (number of examples, output size)\n",
    "    Y -- \"true\" labels vector placeholder, same shape as Z\n",
    "    parameters -- python dictionary containing tensors \"W1\", \"b1\", ..., \"WL\", \"bL\":\n",
    "                    Wl -- weight matrix of shape (layer_dims[l-1], layer_dims[l])\n",
    "                    bl -- bias vector of shape (layer_dims[l],)\n",
    "    lambd -- regularization factor\n",
    "    \n",
    "    Returns:\n",
    "    cost - Tensor of the cost function with L2 regularization\n",
    "    \"\"\"\n",
    "    \n",
    "    L = len(parameters) // 2\n",
    "    \n",
    "    x_entr_cost = tf.reduce_mean(tf.nn.softmax_cross_entropy_with_logits(logits = Z, labels = Y))\n",
    "    \n",
    "    L2_reg_cost = tf.add_n([ tf.nn.l2_loss(parameters['W' + str(l)]) for l in range(1, L) ])\n",
    "    \n",
    "    cost = x_entr_cost + lambd * L2_reg_cost\n",
    "    \n",
    "    return cost"
   ]
  },
  {
   "cell_type": "code",
   "execution_count": 424,
   "metadata": {
    "collapsed": false
   },
   "outputs": [
    {
     "name": "stdout",
     "output_type": "stream",
     "text": [
      "cost = Tensor(\"add:0\", shape=(), dtype=float32)\n"
     ]
    }
   ],
   "source": [
    "tf.reset_default_graph()\n",
    "n_x = 12288\n",
    "n_y = 6\n",
    "with tf.Session() as sess:\n",
    "    X, Y = create_placeholders(n_x, n_y)\n",
    "    parameters = initialize_parameters([n_x, 30, 10, n_y])\n",
    "    Z = forward_propagation(X, parameters)\n",
    "    cost = compute_cost_L2_reg(Z, Y, parameters, lambd = 0.0001)\n",
    "    print(\"cost = \" + str(cost))"
   ]
  },
  {
   "cell_type": "code",
   "execution_count": 426,
   "metadata": {
    "collapsed": true
   },
   "outputs": [],
   "source": [
    "def dl_model_L2_reg(X_train, Y_train, X_dev, Y_dev, X_test, Y_test, layer_dims, learning_rate = 0.5, lambd = 0.0001,\n",
    "          num_epochs = 101, minibatch_size = 128, print_cost = True):\n",
    "    \"\"\"\n",
    "    Implements and trains a N-layer tensorflow neural network: LINEAR->RELU->LINEAR->RELU->...->LINEAR->SOFTMAX.\n",
    "    \n",
    "    Arguments:\n",
    "    X_train -- train set, of shape (m, n_x)\n",
    "    Y_train -- train labels, of shape (m, n_y)\n",
    "    X_dev -- dev set, of shape (m_dev, n_x)\n",
    "    Y_dev -- dev labels, of shape (m_dev, n_y)    \n",
    "    X_test -- test set, of shape (m_test, n_x)\n",
    "    Y_test -- test labels, of shape (m_test, n_y)\n",
    "    layer_dims -- python array (list) containing the dimensions of each layer in our network \n",
    "    learning_rate -- learning rate of the optimization\n",
    "    lambd -- L2 regularization factor\n",
    "    num_epochs -- number of epochs of the optimization loop\n",
    "    minibatch_size -- size of a minibatch\n",
    "    print_cost -- True to print the cost every epoch\n",
    "    \n",
    "    Returns:\n",
    "    parameters -- parameters learnt by the model. They can then be used to predict.\n",
    "    \"\"\"\n",
    "    \n",
    "    tf.reset_default_graph()\n",
    "    tf.set_random_seed(1)                             # to keep consistent results\n",
    "    seed = 3                                          # to keep consistent results\n",
    "    m = X_train.shape[0]                              # m : number of examples in the train set)\n",
    "    n_x, n_y = layer_dims[0], layer_dims[-1]          # n_x: input size, n_y : output size\n",
    "    num_minibatches = int(m / minibatch_size)         # number of minibatches of size minibatch_size in the train set\n",
    "    costs = []                                        # To keep track of the cost\n",
    "    \n",
    "    # Create Placeholders of shape (n_x, n_y) for training data batches \n",
    "    X, Y = create_placeholders(n_x, n_y)\n",
    "    \n",
    "    # Initialize parameters\n",
    "    parameters = initialize_parameters(layer_dims)\n",
    "    \n",
    "    # Forward propagation: Build the forward propagation in the tensorflow graph\n",
    "    Z = forward_propagation(X, parameters)\n",
    "    \n",
    "    # Predictions: Add predictions to tensorflow graph\n",
    "    Y_hat = tf.nn.softmax(Z)\n",
    "    \n",
    "    # Cost function: Add cost function to tensorflow graph\n",
    "    cost = compute_cost_L2_reg(Z, Y, parameters, lambd)\n",
    "    \n",
    "    # Backpropagation: Define the tensorflow optimizer. Use a GradientDescentOptimizer.\n",
    "    optimizer = tf.train.GradientDescentOptimizer(learning_rate = learning_rate).minimize(cost)\n",
    "    \n",
    "    # Initialize all the variables\n",
    "    init = tf.global_variables_initializer()\n",
    "\n",
    "    # Start the session to compute the tensorflow graph\n",
    "    with tf.Session() as sess:\n",
    "        \n",
    "        # Run the initialization\n",
    "        sess.run(init)\n",
    "        batch_cost = 0\n",
    "        n_minibatch = 0\n",
    "        \n",
    "        # Do the training loop\n",
    "        for epoch in range(num_epochs):\n",
    "            epoch_cost = 0.                           # Defines a cost related to an epoch\n",
    "            seed = seed + 1\n",
    "            minibatches = random_minibatches(X_train, Y_train, minibatch_size, seed)\n",
    "\n",
    "            for minibatch in minibatches:\n",
    "                # Select a minibatch\n",
    "                (minibatch_X, minibatch_Y) = minibatch\n",
    "                # Run step\n",
    "                _, minibatch_cost = sess.run([optimizer, cost], feed_dict = {X : minibatch_X, Y : minibatch_Y})\n",
    "                # Add minibatch cost to epoch cost\n",
    "                epoch_cost += minibatch_cost / num_minibatches\n",
    "                            \n",
    "            # Print the cost, train accuracy and dev accuracy every 100 minibatches\n",
    "            if print_cost == True:\n",
    "                print (\"Cost after epoch %i: %f\" % (epoch, epoch_cost))\n",
    "                costs.append(epoch_cost)\n",
    "                \n",
    "        # plot the cost\n",
    "        plt.plot(np.squeeze(costs))\n",
    "        plt.ylabel('cost')\n",
    "        plt.xlabel('epochs')\n",
    "        plt.title(\"Learning rate =\" + str(learning_rate))\n",
    "        plt.show()\n",
    "\n",
    "        # Save the parameters in a variable\n",
    "        parameters = sess.run(parameters)\n",
    "        print(\"Parameters have been trained!\")\n",
    "\n",
    "        # Calculate accuracy on the train, dev and test sets\n",
    "        print(\"Train accuracy: %.1f%%\" % accuracy(Y_hat.eval({X : X_train}), Y_train))\n",
    "        print(\"Dev accuracy: %.1f%%\" % accuracy(Y_hat.eval({X : X_dev}), Y_dev))\n",
    "        print(\"Test accuracy: %.1f%%\" % accuracy(Y_hat.eval({X : X_test}), Y_test))\n",
    "      \n",
    "    return parameters"
   ]
  },
  {
   "cell_type": "code",
   "execution_count": 427,
   "metadata": {
    "collapsed": false
   },
   "outputs": [
    {
     "name": "stdout",
     "output_type": "stream",
     "text": [
      "Cost after epoch 0: 49.052130\n",
      "Cost after epoch 1: 27.623847\n",
      "Cost after epoch 2: 22.023799\n",
      "Cost after epoch 3: 18.220863\n",
      "Cost after epoch 4: 15.279078\n",
      "Cost after epoch 5: 12.908552\n",
      "Cost after epoch 6: 10.973503\n",
      "Cost after epoch 7: 9.349926\n",
      "Cost after epoch 8: 7.991691\n",
      "Cost after epoch 9: 6.845846\n",
      "Cost after epoch 10: 5.869958\n",
      "Cost after epoch 11: 5.041254\n",
      "Cost after epoch 12: 4.336634\n",
      "Cost after epoch 13: 3.733589\n",
      "Cost after epoch 14: 3.221233\n",
      "Cost after epoch 15: 2.782790\n",
      "Cost after epoch 16: 2.408542\n",
      "Cost after epoch 17: 2.088398\n",
      "Cost after epoch 18: 1.814710\n",
      "Cost after epoch 19: 1.582004\n",
      "Cost after epoch 20: 1.383711\n",
      "Cost after epoch 21: 1.214034\n",
      "Cost after epoch 22: 1.069185\n",
      "Cost after epoch 23: 0.947797\n",
      "Cost after epoch 24: 0.840877\n",
      "Cost after epoch 25: 0.754568\n",
      "Cost after epoch 26: 0.678741\n",
      "Cost after epoch 27: 0.614637\n",
      "Cost after epoch 28: 0.558116\n",
      "Cost after epoch 29: 0.511399\n",
      "Cost after epoch 30: 0.470993\n",
      "Cost after epoch 31: 0.439168\n",
      "Cost after epoch 32: 0.409271\n",
      "Cost after epoch 33: 0.382282\n",
      "Cost after epoch 34: 0.363032\n",
      "Cost after epoch 35: 0.346508\n",
      "Cost after epoch 36: 0.328609\n",
      "Cost after epoch 37: 0.313755\n",
      "Cost after epoch 38: 0.304110\n",
      "Cost after epoch 39: 0.292032\n",
      "Cost after epoch 40: 0.280385\n",
      "Cost after epoch 41: 0.274023\n",
      "Cost after epoch 42: 0.269073\n",
      "Cost after epoch 43: 0.262169\n",
      "Cost after epoch 44: 0.256429\n",
      "Cost after epoch 45: 0.250681\n",
      "Cost after epoch 46: 0.249053\n",
      "Cost after epoch 47: 0.248734\n",
      "Cost after epoch 48: 0.245335\n",
      "Cost after epoch 49: 0.241499\n",
      "Cost after epoch 50: 0.235635\n",
      "Cost after epoch 51: 0.232009\n",
      "Cost after epoch 52: 0.232616\n",
      "Cost after epoch 53: 0.228061\n",
      "Cost after epoch 54: 0.229477\n",
      "Cost after epoch 55: 0.226215\n",
      "Cost after epoch 56: 0.227552\n",
      "Cost after epoch 57: 0.224736\n",
      "Cost after epoch 58: 0.221149\n",
      "Cost after epoch 59: 0.222937\n",
      "Cost after epoch 60: 0.224708\n",
      "Cost after epoch 61: 0.222408\n",
      "Cost after epoch 62: 0.218423\n",
      "Cost after epoch 63: 0.215871\n",
      "Cost after epoch 64: 0.214766\n",
      "Cost after epoch 65: 0.219659\n",
      "Cost after epoch 66: 0.218420\n",
      "Cost after epoch 67: 0.220813\n",
      "Cost after epoch 68: 0.219935\n",
      "Cost after epoch 69: 0.217174\n",
      "Cost after epoch 70: 0.214846\n",
      "Cost after epoch 71: 0.214027\n",
      "Cost after epoch 72: 0.216649\n",
      "Cost after epoch 73: 0.213960\n",
      "Cost after epoch 74: 0.215073\n",
      "Cost after epoch 75: 0.214444\n",
      "Cost after epoch 76: 0.212324\n",
      "Cost after epoch 77: 0.213337\n",
      "Cost after epoch 78: 0.213652\n",
      "Cost after epoch 79: 0.214296\n",
      "Cost after epoch 80: 0.216179\n",
      "Cost after epoch 81: 0.215260\n",
      "Cost after epoch 82: 0.215943\n",
      "Cost after epoch 83: 0.215281\n",
      "Cost after epoch 84: 0.216751\n",
      "Cost after epoch 85: 0.206892\n",
      "Cost after epoch 86: 0.213117\n",
      "Cost after epoch 87: 0.211004\n",
      "Cost after epoch 88: 0.212314\n",
      "Cost after epoch 89: 0.209902\n",
      "Cost after epoch 90: 0.209442\n",
      "Cost after epoch 91: 0.214206\n",
      "Cost after epoch 92: 0.213552\n",
      "Cost after epoch 93: 0.214336\n",
      "Cost after epoch 94: 0.210501\n",
      "Cost after epoch 95: 0.210291\n",
      "Cost after epoch 96: 0.210514\n",
      "Cost after epoch 97: 0.211829\n",
      "Cost after epoch 98: 0.212064\n",
      "Cost after epoch 99: 0.215182\n"
     ]
    },
    {
     "data": {
      "image/png": "[encoded data removed]",
      "text/plain": [
       "<matplotlib.figure.Figure at 0x2bf01f5c4a8>"
      ]
     },
     "metadata": {},
     "output_type": "display_data"
    },
    {
     "name": "stdout",
     "output_type": "stream",
     "text": [
      "Parameters have been trained!\n",
      "Train accuracy: 97.0%\n",
      "Dev accuracy: 90.4%\n",
      "Test accuracy: 95.3%\n"
     ]
    }
   ],
   "source": [
    "# Let's try the same last nn with 1024 hidden nodes and add L2 regularization (lambda = 0.0001)\n",
    "\n",
    "parameters = dl_model_L2_reg(X_train, Y_train, X_dev, Y_dev, X_test, Y_test, [X_train.shape[1], 1024, Y_train.shape[1]], \n",
    "                      learning_rate = 0.5, lambd = 0.0001, num_epochs = 100, minibatch_size = 128, print_cost = True)"
   ]
  },
  {
   "cell_type": "markdown",
   "metadata": {},
   "source": [
    "Note: As expected, dev accuracy increased (so did test accuracy) at the expense of train accuracy. Though generalization improved, the gap between train and dev accuracies suggests further room for improvement"
   ]
  },
  {
   "cell_type": "code",
   "execution_count": 469,
   "metadata": {
    "collapsed": false
   },
   "outputs": [
    {
     "name": "stdout",
     "output_type": "stream",
     "text": [
      "Cost after epoch 0: 72.374270\n",
      "Cost after epoch 1: 40.700025\n",
      "Cost after epoch 2: 28.539285\n",
      "Cost after epoch 3: 20.515769\n",
      "Cost after epoch 4: 14.917758\n",
      "Cost after epoch 5: 10.915629\n",
      "Cost after epoch 6: 8.032644\n",
      "Cost after epoch 7: 5.942362\n",
      "Cost after epoch 8: 4.420267\n",
      "Cost after epoch 9: 3.310957\n",
      "Cost after epoch 10: 2.501198\n",
      "Cost after epoch 11: 1.910137\n",
      "Cost after epoch 12: 1.480895\n",
      "Cost after epoch 13: 1.167694\n",
      "Cost after epoch 14: 0.938698\n",
      "Cost after epoch 15: 0.772106\n",
      "Cost after epoch 16: 0.650802\n",
      "Cost after epoch 17: 0.562672\n",
      "Cost after epoch 18: 0.497118\n",
      "Cost after epoch 19: 0.447706\n",
      "Cost after epoch 20: 0.412282\n",
      "Cost after epoch 21: 0.384044\n",
      "Cost after epoch 22: 0.363677\n",
      "Cost after epoch 23: 0.348737\n",
      "Cost after epoch 24: 0.337628\n",
      "Cost after epoch 25: 0.327432\n",
      "Cost after epoch 26: 0.319210\n",
      "Cost after epoch 27: 0.312933\n",
      "Cost after epoch 28: 0.309586\n",
      "Cost after epoch 29: 0.305612\n",
      "Cost after epoch 30: 0.304822\n",
      "Cost after epoch 31: 0.300467\n",
      "Cost after epoch 32: 0.299083\n",
      "Cost after epoch 33: 0.298706\n",
      "Cost after epoch 34: 0.295858\n",
      "Cost after epoch 35: 0.298566\n",
      "Cost after epoch 36: 0.294914\n",
      "Cost after epoch 37: 0.293410\n",
      "Cost after epoch 38: 0.294741\n",
      "Cost after epoch 39: 0.291310\n",
      "Cost after epoch 40: 0.289520\n",
      "Cost after epoch 41: 0.292783\n",
      "Cost after epoch 42: 0.291246\n",
      "Cost after epoch 43: 0.289975\n",
      "Cost after epoch 44: 0.292454\n",
      "Cost after epoch 45: 0.292394\n",
      "Cost after epoch 46: 0.288393\n",
      "Cost after epoch 47: 0.288943\n",
      "Cost after epoch 48: 0.291152\n",
      "Cost after epoch 49: 0.291506\n",
      "Cost after epoch 50: 0.288166\n",
      "Cost after epoch 51: 0.291289\n",
      "Cost after epoch 52: 0.288458\n",
      "Cost after epoch 53: 0.288130\n",
      "Cost after epoch 54: 0.289540\n",
      "Cost after epoch 55: 0.288677\n",
      "Cost after epoch 56: 0.288580\n",
      "Cost after epoch 57: 0.288463\n",
      "Cost after epoch 58: 0.287829\n",
      "Cost after epoch 59: 0.287621\n",
      "Cost after epoch 60: 0.289495\n",
      "Cost after epoch 61: 0.286093\n",
      "Cost after epoch 62: 0.287372\n",
      "Cost after epoch 63: 0.291386\n",
      "Cost after epoch 64: 0.291981\n",
      "Cost after epoch 65: 0.287947\n",
      "Cost after epoch 66: 0.287736\n",
      "Cost after epoch 67: 0.288380\n",
      "Cost after epoch 68: 0.287864\n",
      "Cost after epoch 69: 0.290971\n",
      "Cost after epoch 70: 0.287758\n",
      "Cost after epoch 71: 0.288794\n",
      "Cost after epoch 72: 0.287913\n",
      "Cost after epoch 73: 0.288604\n",
      "Cost after epoch 74: 0.287900\n",
      "Cost after epoch 75: 0.289015\n",
      "Cost after epoch 76: 0.285490\n",
      "Cost after epoch 77: 0.285919\n",
      "Cost after epoch 78: 0.285606\n",
      "Cost after epoch 79: 0.285989\n",
      "Cost after epoch 80: 0.289376\n",
      "Cost after epoch 81: 0.289349\n",
      "Cost after epoch 82: 0.286140\n",
      "Cost after epoch 83: 0.285456\n",
      "Cost after epoch 84: 0.286409\n",
      "Cost after epoch 85: 0.288894\n",
      "Cost after epoch 86: 0.288099\n",
      "Cost after epoch 87: 0.287721\n",
      "Cost after epoch 88: 0.285630\n",
      "Cost after epoch 89: 0.285177\n",
      "Cost after epoch 90: 0.285662\n",
      "Cost after epoch 91: 0.289471\n",
      "Cost after epoch 92: 0.287141\n",
      "Cost after epoch 93: 0.284589\n",
      "Cost after epoch 94: 0.288186\n",
      "Cost after epoch 95: 0.285336\n",
      "Cost after epoch 96: 0.286681\n",
      "Cost after epoch 97: 0.286666\n",
      "Cost after epoch 98: 0.288739\n",
      "Cost after epoch 99: 0.288842\n"
     ]
    },
    {
     "data": {
      "image/png": "[encoded data removed]",
      "text/plain": [
       "<matplotlib.figure.Figure at 0x2bf01c9bbe0>"
      ]
     },
     "metadata": {},
     "output_type": "display_data"
    },
    {
     "name": "stdout",
     "output_type": "stream",
     "text": [
      "Parameters have been trained!\n",
      "Train accuracy: 94.9%\n",
      "Dev accuracy: 89.0%\n",
      "Test accuracy: 94.8%\n"
     ]
    }
   ],
   "source": [
    "# Let's increase L2 regularization factor lambda to boost regularization (lambda = 0.0001 -> 0.0002)\n",
    "\n",
    "parameters = dl_model_L2_reg(X_train, Y_train, X_dev, Y_dev, X_test, Y_test, [X_train.shape[1], 1024, Y_train.shape[1]], \n",
    "                      learning_rate = 0.5, lambd = 0.0002, num_epochs = 100, minibatch_size = 128, print_cost = True)"
   ]
  },
  {
   "cell_type": "markdown",
   "metadata": {},
   "source": [
    "Note: Train accuracy decreased as expected but dev accuracy slightly decreased. Though generalization slightly improved, in absolute terms, accuracy worsened"
   ]
  },
  {
   "cell_type": "markdown",
   "metadata": {
    "colab_type": "text",
    "id": "na8xX2yHZzNF"
   },
   "source": [
    "---\n",
    "Problem 2\n",
    "---------\n",
    "Let's demonstrate an extreme case of overfitting. Restrict your training data to just a few batches. What happens?\n",
    "\n",
    "---"
   ]
  },
  {
   "cell_type": "code",
   "execution_count": 434,
   "metadata": {
    "collapsed": true
   },
   "outputs": [],
   "source": [
    "# Let's remove L2 regularization by setting lambd to zero\n",
    "\n",
    "# L2 regularization for logistic model - Graph setup\n",
    "\n",
    "batch_size = 128   # Batch size for SGD\n",
    "learning_rate = 0.5   # Learning rate\n",
    "lambd = 0   # Regularization factor 0.0001\n",
    "\n",
    "graph = tf.Graph()\n",
    "with graph.as_default():\n",
    "\n",
    "  # Input data. For the training data, we use a placeholder that will be fed\n",
    "  # at run time with a training minibatch.\n",
    "  Xt = tf.placeholder(tf.float32, shape = (batch_size, image_size * image_size))\n",
    "  Yt = tf.placeholder(tf.float32, shape = (batch_size, num_labels))\n",
    "  Xd = tf.constant(X_dev)\n",
    "  Xs = tf.constant(X_test)\n",
    "\n",
    "  # Variables.\n",
    "  W = tf.Variable(tf.truncated_normal([image_size * image_size, num_labels]))\n",
    "  b = tf.Variable(tf.zeros([num_labels]))\n",
    "  \n",
    "  # Training computation.\n",
    "  Zt = tf.matmul(Xt, W) + b\n",
    "  cost = tf.reduce_mean(tf.nn.softmax_cross_entropy_with_logits(labels = Yt, logits = Zt))\n",
    "  l2_cost = lambd * tf.nn.l2_loss(W)\n",
    "  cost = cost + l2_cost\n",
    "\n",
    "  # Optimizer.\n",
    "  optimizer = tf.train.GradientDescentOptimizer(learning_rate = learning_rate).minimize(cost)\n",
    "  \n",
    "  # Predictions for the training, validation, and test data.\n",
    "  Yt_hat = tf.nn.softmax(Zt)\n",
    "  Yd_hat = tf.nn.softmax(tf.matmul(Xd, W) + b)\n",
    "  Ys_hat = tf.nn.softmax(tf.matmul(Xs, W) + b)"
   ]
  },
  {
   "cell_type": "code",
   "execution_count": 435,
   "metadata": {
    "collapsed": false
   },
   "outputs": [
    {
     "name": "stdout",
     "output_type": "stream",
     "text": [
      "Initialized\n",
      "Minibatch cost at step 0: 14.007846\n",
      "Minibatch accuracy: 19.5%\n",
      "Validation accuracy: 17.4%\n",
      "Minibatch cost at step 500: 0.145876\n",
      "Minibatch accuracy: 97.7%\n",
      "Validation accuracy: 67.2%\n",
      "Minibatch cost at step 1000: 0.053320\n",
      "Minibatch accuracy: 99.2%\n",
      "Validation accuracy: 67.6%\n",
      "Minibatch cost at step 1500: 0.030058\n",
      "Minibatch accuracy: 100.0%\n",
      "Validation accuracy: 68.0%\n",
      "Minibatch cost at step 2000: 0.038102\n",
      "Minibatch accuracy: 100.0%\n",
      "Validation accuracy: 68.5%\n",
      "Minibatch cost at step 2500: 0.040022\n",
      "Minibatch accuracy: 99.2%\n",
      "Validation accuracy: 68.8%\n",
      "Minibatch cost at step 3000: 0.012993\n",
      "Minibatch accuracy: 100.0%\n",
      "Validation accuracy: 69.1%\n",
      "Test accuracy: 77.1%\n"
     ]
    }
   ],
   "source": [
    "# Let's run graph with just a small subset of the training set (1000 examples) to drive overfitting on the training set\n",
    "\n",
    "num_steps = 3001\n",
    "train_set_portion_size = 1000\n",
    "\n",
    "with tf.Session(graph=graph) as session:\n",
    "  tf.global_variables_initializer().run()\n",
    "  print(\"Initialized\")\n",
    "  for step in range(num_steps):\n",
    "    # Pick an offset within the training data, which has been randomized.\n",
    "    # Note: we could use better randomization across epochs.\n",
    "    offset = (step * batch_size) % (train_set_portion_size - batch_size)\n",
    "    # Generate a minibatch.\n",
    "    batch_data = X_train[offset:(offset + batch_size), :]\n",
    "    batch_labels = Y_train[offset:(offset + batch_size), :]\n",
    "    # Run step\n",
    "    _, batch_cost_val, Yt_hat_val = session.run([optimizer, cost, Yt_hat], feed_dict = {Xt : batch_data, Yt : batch_labels})\n",
    "    if (step % 500 == 0):\n",
    "      print(\"Minibatch cost at step %d: %f\" % (step, batch_cost_val))\n",
    "      print(\"Minibatch accuracy: %.1f%%\" % accuracy(Yt_hat_val, batch_labels))\n",
    "      print(\"Validation accuracy: %.1f%%\" % accuracy(Yd_hat.eval(), Y_dev))\n",
    "  print(\"Test accuracy: %.1f%%\" % accuracy(Ys_hat.eval(), Y_test))"
   ]
  },
  {
   "cell_type": "markdown",
   "metadata": {},
   "source": [
    "Note: as expected, the logistic regression model is overfitting the small train set achieving a maximum train accuracy of 100%, while generalization is very poor, as validation accuracy of 69% indicates "
   ]
  },
  {
   "cell_type": "code",
   "execution_count": 438,
   "metadata": {
    "collapsed": true
   },
   "outputs": [],
   "source": [
    "# Let's now add L2 regularization\n",
    "\n",
    "# L2 regularization for logistic model - Graph setup\n",
    "\n",
    "batch_size = 128   # Batch size for SGD\n",
    "learning_rate = 0.5   # Learning rate\n",
    "lambd = 0.01   # Regularization factor 0.01\n",
    "\n",
    "graph = tf.Graph()\n",
    "with graph.as_default():\n",
    "\n",
    "  # Input data. For the training data, we use a placeholder that will be fed\n",
    "  # at run time with a training minibatch.\n",
    "  Xt = tf.placeholder(tf.float32, shape = (batch_size, image_size * image_size))\n",
    "  Yt = tf.placeholder(tf.float32, shape = (batch_size, num_labels))\n",
    "  Xd = tf.constant(X_dev)\n",
    "  Xs = tf.constant(X_test)\n",
    "\n",
    "  # Variables.\n",
    "  W = tf.Variable(tf.truncated_normal([image_size * image_size, num_labels]))\n",
    "  b = tf.Variable(tf.zeros([num_labels]))\n",
    "  \n",
    "  # Training computation.\n",
    "  Zt = tf.matmul(Xt, W) + b\n",
    "  cost = tf.reduce_mean(tf.nn.softmax_cross_entropy_with_logits(labels = Yt, logits = Zt))\n",
    "  l2_cost = lambd * tf.nn.l2_loss(W)\n",
    "  cost = cost + l2_cost\n",
    "\n",
    "  # Optimizer.\n",
    "  optimizer = tf.train.GradientDescentOptimizer(learning_rate = learning_rate).minimize(cost)\n",
    "  \n",
    "  # Predictions for the training, validation, and test data.\n",
    "  Yt_hat = tf.nn.softmax(Zt)\n",
    "  Yd_hat = tf.nn.softmax(tf.matmul(Xd, W) + b)\n",
    "  Ys_hat = tf.nn.softmax(tf.matmul(Xs, W) + b)"
   ]
  },
  {
   "cell_type": "code",
   "execution_count": 439,
   "metadata": {
    "collapsed": false
   },
   "outputs": [
    {
     "name": "stdout",
     "output_type": "stream",
     "text": [
      "Initialized\n",
      "Minibatch cost at step 0: 46.618317\n",
      "Minibatch accuracy: 10.2%\n",
      "Validation accuracy: 13.3%\n",
      "Minibatch cost at step 500: 0.634213\n",
      "Minibatch accuracy: 94.5%\n",
      "Validation accuracy: 77.1%\n",
      "Minibatch cost at step 1000: 0.503900\n",
      "Minibatch accuracy: 93.8%\n",
      "Validation accuracy: 77.5%\n",
      "Minibatch cost at step 1500: 0.443488\n",
      "Minibatch accuracy: 97.7%\n",
      "Validation accuracy: 77.5%\n",
      "Minibatch cost at step 2000: 0.583283\n",
      "Minibatch accuracy: 92.2%\n",
      "Validation accuracy: 77.4%\n",
      "Minibatch cost at step 2500: 0.623026\n",
      "Minibatch accuracy: 89.8%\n",
      "Validation accuracy: 76.6%\n",
      "Minibatch cost at step 3000: 0.441115\n",
      "Minibatch accuracy: 95.3%\n",
      "Validation accuracy: 77.6%\n",
      "Test accuracy: 84.9%\n"
     ]
    }
   ],
   "source": [
    "# Let's run graph with just a small subset of the training set (1000 examples) to drive overfitting on the training set\n",
    "\n",
    "num_steps = 3001\n",
    "train_set_portion_size = 1000\n",
    "\n",
    "with tf.Session(graph=graph) as session:\n",
    "  tf.global_variables_initializer().run()\n",
    "  print(\"Initialized\")\n",
    "  for step in range(num_steps):\n",
    "    # Pick an offset within the training data, which has been randomized.\n",
    "    # Note: we could use better randomization across epochs.\n",
    "    offset = (step * batch_size) % (train_set_portion_size - batch_size)\n",
    "    # Generate a minibatch.\n",
    "    batch_data = X_train[offset:(offset + batch_size), :]\n",
    "    batch_labels = Y_train[offset:(offset + batch_size), :]\n",
    "    # Run step\n",
    "    _, batch_cost_val, Yt_hat_val = session.run([optimizer, cost, Yt_hat], feed_dict = {Xt : batch_data, Yt : batch_labels})\n",
    "    if (step % 500 == 0):\n",
    "      print(\"Minibatch cost at step %d: %f\" % (step, batch_cost_val))\n",
    "      print(\"Minibatch accuracy: %.1f%%\" % accuracy(Yt_hat_val, batch_labels))\n",
    "      print(\"Validation accuracy: %.1f%%\" % accuracy(Yd_hat.eval(), Y_dev))\n",
    "  print(\"Test accuracy: %.1f%%\" % accuracy(Ys_hat.eval(), Y_test))"
   ]
  },
  {
   "cell_type": "markdown",
   "metadata": {},
   "source": [
    "Note: as expected, with L2 regularization, generalization improves, as the gap between train accuracy and validation accuracy diminishes. The gap is still wide suggesting further room for improvement"
   ]
  },
  {
   "cell_type": "markdown",
   "metadata": {},
   "source": [
    "Let's experiment the overfitting issue with nn model"
   ]
  },
  {
   "cell_type": "code",
   "execution_count": 450,
   "metadata": {
    "collapsed": false
   },
   "outputs": [
    {
     "name": "stdout",
     "output_type": "stream",
     "text": [
      "Cost after epoch 0: 629.650796\n",
      "Cost after epoch 1: 143.547831\n",
      "Cost after epoch 2: 43.469157\n",
      "Cost after epoch 3: 50.442812\n",
      "Cost after epoch 4: 41.314054\n",
      "Cost after epoch 5: 30.417358\n",
      "Cost after epoch 6: 20.387416\n",
      "Cost after epoch 7: 9.620776\n",
      "Cost after epoch 8: 8.872062\n",
      "Cost after epoch 9: 5.658569\n",
      "Cost after epoch 10: 3.826663\n",
      "Cost after epoch 11: 5.960957\n",
      "Cost after epoch 12: 7.616385\n",
      "Cost after epoch 13: 5.555296\n",
      "Cost after epoch 14: 3.102347\n",
      "Cost after epoch 15: 3.799143\n",
      "Cost after epoch 16: 6.934374\n",
      "Cost after epoch 17: 3.509900\n",
      "Cost after epoch 18: 4.069808\n",
      "Cost after epoch 19: 2.816133\n",
      "Cost after epoch 20: 2.812919\n",
      "Cost after epoch 21: 4.832503\n",
      "Cost after epoch 22: 4.212261\n",
      "Cost after epoch 23: 3.322075\n",
      "Cost after epoch 24: 14.322317\n",
      "Cost after epoch 25: 3.382982\n",
      "Cost after epoch 26: 4.062805\n",
      "Cost after epoch 27: 1.106255\n",
      "Cost after epoch 28: 1.245495\n",
      "Cost after epoch 29: 0.885705\n",
      "Cost after epoch 30: 1.230217\n",
      "Cost after epoch 31: 0.970745\n",
      "Cost after epoch 32: 0.374452\n",
      "Cost after epoch 33: 0.425367\n",
      "Cost after epoch 34: 0.512448\n",
      "Cost after epoch 35: 0.196334\n",
      "Cost after epoch 36: 0.287135\n",
      "Cost after epoch 37: 0.152356\n",
      "Cost after epoch 38: 0.085999\n",
      "Cost after epoch 39: 0.130158\n",
      "Cost after epoch 40: 0.079359\n",
      "Cost after epoch 41: 0.083168\n",
      "Cost after epoch 42: 0.092430\n",
      "Cost after epoch 43: 0.036443\n",
      "Cost after epoch 44: 0.038111\n",
      "Cost after epoch 45: 0.021485\n",
      "Cost after epoch 46: 0.016511\n",
      "Cost after epoch 47: 0.014966\n",
      "Cost after epoch 48: 0.012024\n",
      "Cost after epoch 49: 0.010046\n"
     ]
    },
    {
     "data": {
      "image/png": "[encoded data removed]",
      "text/plain": [
       "<matplotlib.figure.Figure at 0x2bf02512198>"
      ]
     },
     "metadata": {},
     "output_type": "display_data"
    },
    {
     "name": "stdout",
     "output_type": "stream",
     "text": [
      "Parameters have been trained!\n",
      "Train accuracy: 99.9%\n",
      "Dev accuracy: 76.9%\n",
      "Test accuracy: 84.7%\n"
     ]
    }
   ],
   "source": [
    "# Let's try the nn model trained on a subset of the training set (1000 examples) to force overfitting on training\n",
    "# First, with no regularization\n",
    "\n",
    "parameters = dl_model_L2_reg(X_train[:1000, :], Y_train[:1000, :], X_dev, Y_dev, X_test, Y_test, [X_train.shape[1], 1024, Y_train.shape[1]], \n",
    "                      learning_rate = 0.5, lambd = 0, num_epochs = 50, minibatch_size = 32, print_cost = True)"
   ]
  },
  {
   "cell_type": "markdown",
   "metadata": {},
   "source": [
    "Note: as expected, the neural network model is overfitting the small train set achieving a maximum train accuracy of ca. 100%, while generalization is considerably poor, as dev accuracy of 77% indicates"
   ]
  },
  {
   "cell_type": "code",
   "execution_count": 468,
   "metadata": {
    "collapsed": false
   },
   "outputs": [
    {
     "name": "stdout",
     "output_type": "stream",
     "text": [
      "Cost after epoch 0: 1569.134929\n",
      "Cost after epoch 1: 979.410780\n",
      "Cost after epoch 2: 812.583973\n",
      "Cost after epoch 3: 734.535645\n",
      "Cost after epoch 4: 661.243798\n",
      "Cost after epoch 5: 594.716948\n",
      "Cost after epoch 6: 538.853029\n",
      "Cost after epoch 7: 486.611584\n",
      "Cost after epoch 8: 441.948666\n",
      "Cost after epoch 9: 404.444428\n",
      "Cost after epoch 10: 366.140625\n",
      "Cost after epoch 11: 337.919486\n",
      "Cost after epoch 12: 306.380641\n",
      "Cost after epoch 13: 281.588412\n",
      "Cost after epoch 14: 259.953603\n",
      "Cost after epoch 15: 233.881876\n",
      "Cost after epoch 16: 212.504021\n",
      "Cost after epoch 17: 192.399554\n",
      "Cost after epoch 18: 174.589230\n",
      "Cost after epoch 19: 161.244538\n",
      "Cost after epoch 20: 158.791933\n",
      "Cost after epoch 21: 143.192727\n",
      "Cost after epoch 22: 151.481637\n",
      "Cost after epoch 23: 122.773046\n",
      "Cost after epoch 24: 142.268684\n",
      "Cost after epoch 25: 103.517258\n",
      "Cost after epoch 26: 95.014713\n",
      "Cost after epoch 27: 83.631773\n",
      "Cost after epoch 28: 75.358259\n",
      "Cost after epoch 29: 70.015432\n",
      "Cost after epoch 30: 63.054884\n",
      "Cost after epoch 31: 57.174115\n",
      "Cost after epoch 32: 52.246151\n",
      "Cost after epoch 33: 47.815739\n",
      "Cost after epoch 34: 43.762122\n",
      "Cost after epoch 35: 40.009715\n",
      "Cost after epoch 36: 36.664126\n",
      "Cost after epoch 37: 33.329495\n",
      "Cost after epoch 38: 31.194296\n",
      "Cost after epoch 39: 33.865951\n",
      "Cost after epoch 40: 50.704787\n",
      "Cost after epoch 41: 35.034548\n",
      "Cost after epoch 42: 29.057639\n",
      "Cost after epoch 43: 28.665756\n",
      "Cost after epoch 44: 24.742016\n",
      "Cost after epoch 45: 29.520433\n",
      "Cost after epoch 46: 22.264674\n",
      "Cost after epoch 47: 29.768446\n",
      "Cost after epoch 48: 21.002983\n",
      "Cost after epoch 49: 20.565910\n",
      "Cost after epoch 50: 17.698188\n",
      "Cost after epoch 51: 15.848934\n",
      "Cost after epoch 52: 18.078775\n",
      "Cost after epoch 53: 17.261452\n",
      "Cost after epoch 54: 14.067764\n",
      "Cost after epoch 55: 18.649218\n",
      "Cost after epoch 56: 12.982490\n",
      "Cost after epoch 57: 11.508846\n",
      "Cost after epoch 58: 10.838466\n",
      "Cost after epoch 59: 9.401623\n",
      "Cost after epoch 60: 8.569743\n",
      "Cost after epoch 61: 7.845396\n",
      "Cost after epoch 62: 7.104355\n",
      "Cost after epoch 63: 7.327177\n",
      "Cost after epoch 64: 7.032531\n",
      "Cost after epoch 65: 9.348876\n",
      "Cost after epoch 66: 10.970524\n",
      "Cost after epoch 67: 25.372141\n",
      "Cost after epoch 68: 21.121900\n",
      "Cost after epoch 69: 15.053734\n",
      "Cost after epoch 70: 10.425329\n",
      "Cost after epoch 71: 8.860251\n",
      "Cost after epoch 72: 8.102467\n",
      "Cost after epoch 73: 7.121234\n",
      "Cost after epoch 74: 6.418953\n",
      "Cost after epoch 75: 5.900032\n",
      "Cost after epoch 76: 5.267689\n",
      "Cost after epoch 77: 4.714263\n",
      "Cost after epoch 78: 4.297191\n",
      "Cost after epoch 79: 3.857707\n",
      "Cost after epoch 80: 3.491961\n",
      "Cost after epoch 81: 3.165186\n",
      "Cost after epoch 82: 2.880400\n",
      "Cost after epoch 83: 2.612564\n",
      "Cost after epoch 84: 2.374030\n",
      "Cost after epoch 85: 2.157742\n",
      "Cost after epoch 86: 1.966235\n",
      "Cost after epoch 87: 5.612396\n",
      "Cost after epoch 88: 16.237383\n",
      "Cost after epoch 89: 13.578785\n",
      "Cost after epoch 90: 8.150620\n",
      "Cost after epoch 91: 10.017678\n",
      "Cost after epoch 92: 6.449361\n",
      "Cost after epoch 93: 5.173398\n",
      "Cost after epoch 94: 4.459435\n",
      "Cost after epoch 95: 4.032700\n",
      "Cost after epoch 96: 3.727557\n",
      "Cost after epoch 97: 3.293307\n",
      "Cost after epoch 98: 3.136813\n",
      "Cost after epoch 99: 2.669606\n"
     ]
    },
    {
     "data": {
      "image/png": "[encoded data removed]",
      "text/plain": [
       "<matplotlib.figure.Figure at 0x2bf206de390>"
      ]
     },
     "metadata": {},
     "output_type": "display_data"
    },
    {
     "name": "stdout",
     "output_type": "stream",
     "text": [
      "Parameters have been trained!\n",
      "Train accuracy: 99.8%\n",
      "Dev accuracy: 78.1%\n",
      "Test accuracy: 85.6%\n"
     ]
    }
   ],
   "source": [
    "# Let's try the nn model trained on a subset of the training set (1000 examples) to force overfitting on training\n",
    "# Now, with L2 regularization\n",
    "\n",
    "parameters = dl_model_L2_reg(X_train[:1000, :], Y_train[:1000, :], X_dev, Y_dev, X_test, Y_test, [X_train.shape[1], 1024, Y_train.shape[1]], \n",
    "                      learning_rate = 0.5, lambd = 0.003, num_epochs = 100, minibatch_size = 32, print_cost = True)"
   ]
  },
  {
   "cell_type": "markdown",
   "metadata": {},
   "source": [
    "Note: as expected, with L2 regularization, generalization improves (though not significantly), as the gap between train accuracy and validation accuracy diminishes. The gap is still wide suggesting further room for improvement"
   ]
  },
  {
   "cell_type": "markdown",
   "metadata": {
    "colab_type": "text",
    "id": "ww3SCBUdlkRc"
   },
   "source": [
    "---\n",
    "Problem 3\n",
    "---------\n",
    "Introduce Dropout on the hidden layer of the neural network. Remember: Dropout should only be introduced during training, not evaluation, otherwise your evaluation results would be stochastic as well. TensorFlow provides `nn.dropout()` for that, but you have to make sure it's only inserted during training.\n",
    "\n",
    "What happens to our extreme overfitting case?\n",
    "\n",
    "---"
   ]
  },
  {
   "cell_type": "markdown",
   "metadata": {},
   "source": [
    "Let's first define some helper functions to add dropout to tackle overfitting and improve generalization"
   ]
  },
  {
   "cell_type": "code",
   "execution_count": 473,
   "metadata": {
    "collapsed": true
   },
   "outputs": [],
   "source": [
    "def forward_propagation_dropout(X, parameters, keep_prob):\n",
    "    \"\"\"\n",
    "    Implements the forward propagation for the model\n",
    "    \n",
    "    Arguments:\n",
    "    X -- input dataset placeholder, of shape (number of examples, input size)\n",
    "    parameters -- python dictionary containing your parameters \"W1\", \"b1\", \"W2\", \"b2\", \"W3\", \"b3\"\n",
    "                  the shapes are given in initialize_parameters\n",
    "    keep_prob -- dropout keep probability placeholder\n",
    "\n",
    "    Returns:\n",
    "    Z -- the output of the last LINEAR unit\n",
    "    \"\"\"\n",
    "    \n",
    "    L = len(parameters) // 2\n",
    "    A = X\n",
    "    \n",
    "    for l in range(1, L):\n",
    "      Z = tf.add(tf.matmul(tf.nn.dropout(A, keep_prob), parameters['W' + str(l)]), parameters['b' + str(l)])\n",
    "      A = tf.nn.relu(Z)\n",
    "    \n",
    "    Z = tf.add(tf.matmul(tf.nn.dropout(A, keep_prob), parameters['W' + str(L)]), parameters['b' + str(L)])\n",
    "\n",
    "    return Z"
   ]
  },
  {
   "cell_type": "code",
   "execution_count": 476,
   "metadata": {
    "collapsed": false
   },
   "outputs": [
    {
     "name": "stdout",
     "output_type": "stream",
     "text": [
      "Z = Tensor(\"Add_2:0\", shape=(?, 6), dtype=float32)\n"
     ]
    }
   ],
   "source": [
    "# Try forward_propagation function\n",
    "\n",
    "tf.reset_default_graph()\n",
    "n_x = 12228\n",
    "n_y = 6\n",
    "with tf.Session() as sess:\n",
    "    X, Y = create_placeholders(n_x, n_y)\n",
    "    parameters = initialize_parameters([n_x, 30, 10, n_y])\n",
    "    Z = forward_propagation_dropout(X, parameters, keep_prob = 0.8)\n",
    "    print(\"Z = \" + str(Z))"
   ]
  },
  {
   "cell_type": "code",
   "execution_count": 478,
   "metadata": {
    "collapsed": true
   },
   "outputs": [],
   "source": [
    "def dl_model_dropout(X_train, Y_train, X_dev, Y_dev, X_test, Y_test, layer_dims, learning_rate = 0.5, keep_prob_val = 0.7,\n",
    "          num_epochs = 101, minibatch_size = 128, print_cost = True):\n",
    "    \"\"\"\n",
    "    Implements and trains a N-layer tensorflow neural network: LINEAR->RELU->LINEAR->RELU->...->LINEAR->SOFTMAX.\n",
    "    \n",
    "    Arguments:\n",
    "    X_train -- train set, of shape (m, n_x)\n",
    "    Y_train -- train labels, of shape (m, n_y)\n",
    "    X_dev -- dev set, of shape (m_dev, n_x)\n",
    "    Y_dev -- dev labels, of shape (m_dev, n_y)    \n",
    "    X_test -- test set, of shape (m_test, n_x)\n",
    "    Y_test -- test labels, of shape (m_test, n_y)\n",
    "    layer_dims -- python array (list) containing the dimensions of each layer in our network \n",
    "    learning_rate -- learning rate of the optimization\n",
    "    keep_prob_val -- dropout keep probability value\n",
    "    num_epochs -- number of epochs of the optimization loop\n",
    "    minibatch_size -- size of a minibatch\n",
    "    print_cost -- True to print the cost every epoch\n",
    "    \n",
    "    Returns:\n",
    "    parameters -- parameters learnt by the model. They can then be used to predict.\n",
    "    \"\"\"\n",
    "    \n",
    "    tf.reset_default_graph()\n",
    "    tf.set_random_seed(1)                             # to keep consistent results\n",
    "    seed = 3                                          # to keep consistent results\n",
    "    m = X_train.shape[0]                              # m : number of examples in the train set)\n",
    "    n_x, n_y = layer_dims[0], layer_dims[-1]          # n_x: input size, n_y : output size\n",
    "    num_minibatches = int(m / minibatch_size)         # number of minibatches of size minibatch_size in the train set\n",
    "    costs = []                                        # To keep track of the cost\n",
    "    \n",
    "    # Create Placeholders of shape (n_x, n_y) for training data batches \n",
    "    X, Y = create_placeholders(n_x, n_y)\n",
    "    \n",
    "    # Create Placeholder for keep_prob\n",
    "    keep_prob = tf.placeholder(tf.float32)\n",
    "    \n",
    "    # Initialize parameters\n",
    "    parameters = initialize_parameters(layer_dims)\n",
    "    \n",
    "    # Forward propagation: Build the forward propagation in the tensorflow graph\n",
    "    Z = forward_propagation_dropout(X, parameters, keep_prob)\n",
    "    \n",
    "    # Predictions: Add predictions to tensorflow graph\n",
    "    Y_hat = tf.nn.softmax(Z)\n",
    "   \n",
    "    # Cost function: Add cost function to tensorflow graph\n",
    "    cost = compute_cost(Z, Y)\n",
    "    \n",
    "    # Backpropagation: Define the tensorflow optimizer. Use a GradientDescentOptimizer.\n",
    "    optimizer = tf.train.GradientDescentOptimizer(learning_rate = learning_rate).minimize(cost)\n",
    "    \n",
    "    # Initialize all the variables\n",
    "    init = tf.global_variables_initializer()\n",
    "\n",
    "    # Start the session to compute the tensorflow graph\n",
    "    with tf.Session() as sess:\n",
    "        \n",
    "        # Run the initialization\n",
    "        sess.run(init)\n",
    "        batch_cost = 0\n",
    "        n_minibatch = 0\n",
    "        \n",
    "        # Do the training loop\n",
    "        for epoch in range(num_epochs):\n",
    "            epoch_cost = 0.                           # Defines a cost related to an epoch\n",
    "            seed = seed + 1\n",
    "            minibatches = random_minibatches(X_train, Y_train, minibatch_size, seed)\n",
    "\n",
    "            for minibatch in minibatches:\n",
    "                # Select a minibatch\n",
    "                (minibatch_X, minibatch_Y) = minibatch\n",
    "                # Run step\n",
    "                _, minibatch_cost = sess.run([optimizer, cost], feed_dict = {X : minibatch_X, Y : minibatch_Y, keep_prob : keep_prob_val})\n",
    "                # Add minibatch cost to epoch cost\n",
    "                epoch_cost += minibatch_cost / num_minibatches\n",
    "                            \n",
    "            # Print the cost, train accuracy and dev accuracy every 100 minibatches\n",
    "            if print_cost == True:\n",
    "                print (\"Cost after epoch %i: %f\" % (epoch, epoch_cost))\n",
    "                costs.append(epoch_cost)\n",
    "                \n",
    "        # plot the cost\n",
    "        plt.plot(np.squeeze(costs))\n",
    "        plt.ylabel('cost')\n",
    "        plt.xlabel('epochs')\n",
    "        plt.title(\"Learning rate =\" + str(learning_rate))\n",
    "        plt.show()\n",
    "\n",
    "        # Save the parameters in a variable\n",
    "        parameters = sess.run(parameters)\n",
    "        print(\"Parameters have been trained!\")\n",
    "\n",
    "        # Calculate accuracy on the train, dev and test sets\n",
    "        print(\"Train accuracy: %.1f%%\" % accuracy(Y_hat.eval({X : X_train, keep_prob : 1.0}), Y_train))\n",
    "        print(\"Dev accuracy: %.1f%%\" % accuracy(Y_hat.eval({X : X_dev, keep_prob : 1.0}), Y_dev))\n",
    "        print(\"Test accuracy: %.1f%%\" % accuracy(Y_hat.eval({X : X_test, keep_prob : 1.0}), Y_test))\n",
    "      \n",
    "    return parameters"
   ]
  },
  {
   "cell_type": "code",
   "execution_count": 484,
   "metadata": {
    "collapsed": false
   },
   "outputs": [
    {
     "name": "stdout",
     "output_type": "stream",
     "text": [
      "Cost after epoch 0: 385.497964\n",
      "Cost after epoch 1: 245.389000\n",
      "Cost after epoch 2: 201.873474\n",
      "Cost after epoch 3: 178.089723\n",
      "Cost after epoch 4: 181.570910\n",
      "Cost after epoch 5: 167.393466\n",
      "Cost after epoch 6: 134.989823\n",
      "Cost after epoch 7: 142.278011\n",
      "Cost after epoch 8: 131.443913\n",
      "Cost after epoch 9: 125.380029\n",
      "Cost after epoch 10: 115.101392\n",
      "Cost after epoch 11: 115.794713\n",
      "Cost after epoch 12: 102.258852\n",
      "Cost after epoch 13: 107.827588\n",
      "Cost after epoch 14: 104.150345\n",
      "Cost after epoch 15: 95.269321\n",
      "Cost after epoch 16: 89.945671\n",
      "Cost after epoch 17: 94.103445\n",
      "Cost after epoch 18: 90.258517\n",
      "Cost after epoch 19: 85.973109\n",
      "Cost after epoch 20: 75.496729\n",
      "Cost after epoch 21: 77.686331\n",
      "Cost after epoch 22: 78.582900\n",
      "Cost after epoch 23: 83.439636\n",
      "Cost after epoch 24: 82.402377\n",
      "Cost after epoch 25: 73.164554\n",
      "Cost after epoch 26: 76.618947\n",
      "Cost after epoch 27: 61.906654\n",
      "Cost after epoch 28: 59.510524\n",
      "Cost after epoch 29: 68.761203\n",
      "Cost after epoch 30: 67.200677\n",
      "Cost after epoch 31: 51.971323\n",
      "Cost after epoch 32: 65.342033\n",
      "Cost after epoch 33: 66.775891\n",
      "Cost after epoch 34: 57.657530\n",
      "Cost after epoch 35: 58.177763\n",
      "Cost after epoch 36: 63.718629\n",
      "Cost after epoch 37: 51.537794\n",
      "Cost after epoch 38: 52.209223\n",
      "Cost after epoch 39: 56.656874\n",
      "Cost after epoch 40: 52.674376\n",
      "Cost after epoch 41: 51.807359\n",
      "Cost after epoch 42: 45.822902\n",
      "Cost after epoch 43: 55.360048\n",
      "Cost after epoch 44: 46.841384\n",
      "Cost after epoch 45: 47.617000\n",
      "Cost after epoch 46: 41.257530\n",
      "Cost after epoch 47: 45.267245\n",
      "Cost after epoch 48: 50.730926\n",
      "Cost after epoch 49: 44.166207\n",
      "Cost after epoch 50: 47.694974\n",
      "Cost after epoch 51: 47.739372\n",
      "Cost after epoch 52: 45.360784\n",
      "Cost after epoch 53: 40.022974\n",
      "Cost after epoch 54: 40.307115\n",
      "Cost after epoch 55: 51.948226\n",
      "Cost after epoch 56: 46.851163\n",
      "Cost after epoch 57: 37.192063\n",
      "Cost after epoch 58: 47.438862\n",
      "Cost after epoch 59: 50.674915\n",
      "Cost after epoch 60: 42.579520\n",
      "Cost after epoch 61: 31.368481\n",
      "Cost after epoch 62: 39.192751\n",
      "Cost after epoch 63: 33.658742\n",
      "Cost after epoch 64: 34.514996\n",
      "Cost after epoch 65: 33.654460\n",
      "Cost after epoch 66: 30.403149\n",
      "Cost after epoch 67: 36.762787\n",
      "Cost after epoch 68: 32.827695\n",
      "Cost after epoch 69: 31.241380\n",
      "Cost after epoch 70: 37.224972\n",
      "Cost after epoch 71: 33.667984\n",
      "Cost after epoch 72: 35.140961\n",
      "Cost after epoch 73: 34.229363\n",
      "Cost after epoch 74: 30.144724\n",
      "Cost after epoch 75: 36.363185\n",
      "Cost after epoch 76: 32.306379\n",
      "Cost after epoch 77: 30.952113\n",
      "Cost after epoch 78: 27.118110\n",
      "Cost after epoch 79: 34.863226\n",
      "Cost after epoch 80: 34.002742\n",
      "Cost after epoch 81: 32.373615\n",
      "Cost after epoch 82: 33.604472\n",
      "Cost after epoch 83: 30.250091\n",
      "Cost after epoch 84: 28.382221\n",
      "Cost after epoch 85: 32.944288\n",
      "Cost after epoch 86: 28.634462\n",
      "Cost after epoch 87: 31.898327\n",
      "Cost after epoch 88: 30.892089\n",
      "Cost after epoch 89: 25.625720\n",
      "Cost after epoch 90: 28.466905\n",
      "Cost after epoch 91: 31.442582\n",
      "Cost after epoch 92: 23.586382\n",
      "Cost after epoch 93: 33.118041\n",
      "Cost after epoch 94: 29.650375\n",
      "Cost after epoch 95: 33.794120\n",
      "Cost after epoch 96: 29.508235\n",
      "Cost after epoch 97: 25.315532\n",
      "Cost after epoch 98: 24.197009\n",
      "Cost after epoch 99: 21.407335\n"
     ]
    },
    {
     "data": {
      "image/png": "[encoded data removed]",
      "text/plain": [
       "<matplotlib.figure.Figure at 0x2bf024ebb70>"
      ]
     },
     "metadata": {},
     "output_type": "display_data"
    },
    {
     "name": "stdout",
     "output_type": "stream",
     "text": [
      "Parameters have been trained!\n",
      "Train accuracy: 99.5%\n",
      "Dev accuracy: 79.4%\n",
      "Test accuracy: 86.9%\n"
     ]
    }
   ],
   "source": [
    "# Let's try the nn model trained on a subset of the training set (1000 examples) to force overfitting on training\n",
    "# Now, with dropout\n",
    "\n",
    "parameters = dl_model_dropout(X_train[:1000, :], Y_train[:1000, :], X_dev, Y_dev, X_test, Y_test, [X_train.shape[1], 1024, Y_train.shape[1]], \n",
    "                      learning_rate = 0.05, keep_prob_val = 0.5, num_epochs = 100, minibatch_size = 32, print_cost = True)"
   ]
  },
  {
   "cell_type": "markdown",
   "metadata": {},
   "source": [
    "Note: as expected, with dropout, generalization improves (though not significantly), as the gap between train accuracy and validation accuracy diminishes. The gap is still wide suggesting further room for improvement. With the chosen hyperparameters, same training, we have achieved slightly better results with dropout than with L2 regularization"
   ]
  },
  {
   "cell_type": "markdown",
   "metadata": {
    "colab_type": "text",
    "id": "-b1hTz3VWZjw"
   },
   "source": [
    "---\n",
    "Problem 4\n",
    "---------\n",
    "\n",
    "Try to get the best performance you can using a multi-layer model! The best reported test accuracy using a deep network is [97.1%](http://yaroslavvb.blogspot.com/2011/09/notmnist-dataset.html?showComment=1391023266211#c8758720086795711595).\n",
    "\n",
    "One avenue you can explore is to add multiple layers.\n",
    "\n",
    "Another one is to use learning rate decay:\n",
    "\n",
    "    global_step = tf.Variable(0)  # count the number of steps taken.\n",
    "    learning_rate = tf.train.exponential_decay(0.5, global_step, ...)\n",
    "    optimizer = tf.train.GradientDescentOptimizer(learning_rate).minimize(loss, global_step=global_step)\n",
    " \n",
    " ---\n"
   ]
  },
  {
   "cell_type": "code",
   "execution_count": 491,
   "metadata": {
    "collapsed": false
   },
   "outputs": [
    {
     "name": "stdout",
     "output_type": "stream",
     "text": [
      "Cost after epoch 0: 52.945131\n",
      "Cost after epoch 1: 20.420201\n",
      "Cost after epoch 2: 12.877766\n",
      "Cost after epoch 3: 9.365502\n",
      "Cost after epoch 4: 7.038470\n",
      "Cost after epoch 5: 5.567130\n",
      "Cost after epoch 6: 4.552555\n",
      "Cost after epoch 7: 3.731123\n",
      "Cost after epoch 8: 3.352019\n",
      "Cost after epoch 9: 2.946972\n",
      "Cost after epoch 10: 2.597058\n",
      "Cost after epoch 11: 2.349213\n",
      "Cost after epoch 12: 2.173816\n",
      "Cost after epoch 13: 1.960958\n",
      "Cost after epoch 14: 1.803012\n",
      "Cost after epoch 15: 1.706948\n",
      "Cost after epoch 16: 1.589801\n",
      "Cost after epoch 17: 1.508414\n",
      "Cost after epoch 18: 1.428373\n",
      "Cost after epoch 19: 1.367731\n",
      "Cost after epoch 20: 1.312817\n",
      "Cost after epoch 21: 1.257147\n",
      "Cost after epoch 22: 1.215568\n",
      "Cost after epoch 23: 1.166573\n",
      "Cost after epoch 24: 1.140084\n",
      "Cost after epoch 25: 1.094917\n",
      "Cost after epoch 26: 1.073360\n",
      "Cost after epoch 27: 1.027288\n",
      "Cost after epoch 28: 1.006479\n",
      "Cost after epoch 29: 0.980639\n",
      "Cost after epoch 30: 0.951545\n",
      "Cost after epoch 31: 0.937046\n",
      "Cost after epoch 32: 0.931140\n",
      "Cost after epoch 33: 0.901231\n",
      "Cost after epoch 34: 0.889315\n",
      "Cost after epoch 35: 0.869444\n",
      "Cost after epoch 36: 0.847794\n",
      "Cost after epoch 37: 0.847450\n",
      "Cost after epoch 38: 0.825526\n",
      "Cost after epoch 39: 0.817124\n",
      "Cost after epoch 40: 0.798310\n",
      "Cost after epoch 41: 0.793270\n",
      "Cost after epoch 42: 0.782488\n",
      "Cost after epoch 43: 0.777263\n",
      "Cost after epoch 44: 0.769187\n",
      "Cost after epoch 45: 0.759492\n",
      "Cost after epoch 46: 0.745752\n",
      "Cost after epoch 47: 0.750783\n",
      "Cost after epoch 48: 0.734449\n",
      "Cost after epoch 49: 0.727736\n",
      "Cost after epoch 50: 0.719361\n",
      "Cost after epoch 51: 0.713757\n",
      "Cost after epoch 52: 0.708166\n",
      "Cost after epoch 53: 0.705298\n",
      "Cost after epoch 54: 0.694016\n",
      "Cost after epoch 55: 0.689380\n",
      "Cost after epoch 56: 0.687663\n",
      "Cost after epoch 57: 0.682308\n",
      "Cost after epoch 58: 0.680234\n",
      "Cost after epoch 59: 0.671780\n",
      "Cost after epoch 60: 0.671102\n",
      "Cost after epoch 61: 0.668774\n",
      "Cost after epoch 62: 0.664035\n",
      "Cost after epoch 63: 0.658736\n",
      "Cost after epoch 64: 0.654183\n",
      "Cost after epoch 65: 0.645770\n",
      "Cost after epoch 66: 0.647540\n",
      "Cost after epoch 67: 0.643527\n",
      "Cost after epoch 68: 0.638457\n",
      "Cost after epoch 69: 0.636706\n",
      "Cost after epoch 70: 0.637083\n",
      "Cost after epoch 71: 0.632511\n",
      "Cost after epoch 72: 0.625194\n",
      "Cost after epoch 73: 0.621886\n",
      "Cost after epoch 74: 0.621161\n",
      "Cost after epoch 75: 0.619869\n",
      "Cost after epoch 76: 0.619118\n",
      "Cost after epoch 77: 0.609501\n",
      "Cost after epoch 78: 0.608168\n",
      "Cost after epoch 79: 0.608401\n",
      "Cost after epoch 80: 0.605899\n",
      "Cost after epoch 81: 0.605848\n",
      "Cost after epoch 82: 0.602902\n",
      "Cost after epoch 83: 0.597138\n",
      "Cost after epoch 84: 0.594636\n",
      "Cost after epoch 85: 0.593301\n",
      "Cost after epoch 86: 0.591742\n",
      "Cost after epoch 87: 0.593765\n",
      "Cost after epoch 88: 0.586539\n",
      "Cost after epoch 89: 0.588617\n",
      "Cost after epoch 90: 0.584441\n",
      "Cost after epoch 91: 0.581603\n",
      "Cost after epoch 92: 0.582684\n",
      "Cost after epoch 93: 0.582525\n",
      "Cost after epoch 94: 0.581074\n",
      "Cost after epoch 95: 0.575712\n",
      "Cost after epoch 96: 0.574819\n",
      "Cost after epoch 97: 0.571896\n",
      "Cost after epoch 98: 0.571435\n",
      "Cost after epoch 99: 0.569583\n"
     ]
    },
    {
     "data": {
      "image/png": "[encoded data removed]",
      "text/plain": [
       "<matplotlib.figure.Figure at 0x2bf22e059e8>"
      ]
     },
     "metadata": {},
     "output_type": "display_data"
    },
    {
     "name": "stdout",
     "output_type": "stream",
     "text": [
      "Parameters have been trained!\n",
      "Train accuracy: 87.4%\n",
      "Dev accuracy: 86.5%\n",
      "Test accuracy: 92.5%\n"
     ]
    }
   ],
   "source": [
    "# Let's start with the original nn with 1024 hidden units, adding dropout with keep_prob = 0.7\n",
    "\n",
    "parameters = dl_model_dropout(X_train, Y_train, X_dev, Y_dev, X_test, Y_test, [X_train.shape[1], 1024, Y_train.shape[1]], \n",
    "                      learning_rate = 0.5, keep_prob_val = 0.7, num_epochs = 100, minibatch_size = 128, print_cost = True)"
   ]
  },
  {
   "cell_type": "markdown",
   "metadata": {},
   "source": [
    "Note: Train and dev accuracies are roughly at the same level ca 87% (though lower than previous accuracies achieved with L2 regularization), indicating good generalization, but some underfitting"
   ]
  },
  {
   "cell_type": "code",
   "execution_count": 492,
   "metadata": {
    "collapsed": false
   },
   "outputs": [
    {
     "name": "stdout",
     "output_type": "stream",
     "text": [
      "Cost after epoch 0: 28.258079\n",
      "Cost after epoch 1: 8.604738\n",
      "Cost after epoch 2: 5.519577\n",
      "Cost after epoch 3: 4.009693\n",
      "Cost after epoch 4: 3.150596\n",
      "Cost after epoch 5: 2.635743\n",
      "Cost after epoch 6: 2.199263\n",
      "Cost after epoch 7: 1.960274\n",
      "Cost after epoch 8: 1.736181\n",
      "Cost after epoch 9: 1.563740\n",
      "Cost after epoch 10: 1.423834\n",
      "Cost after epoch 11: 1.283604\n",
      "Cost after epoch 12: 1.212593\n",
      "Cost after epoch 13: 1.126584\n",
      "Cost after epoch 14: 1.076048\n",
      "Cost after epoch 15: 0.999268\n",
      "Cost after epoch 16: 0.956101\n",
      "Cost after epoch 17: 0.913004\n",
      "Cost after epoch 18: 0.871368\n",
      "Cost after epoch 19: 0.829877\n",
      "Cost after epoch 20: 0.805897\n",
      "Cost after epoch 21: 0.789320\n",
      "Cost after epoch 22: 0.756889\n",
      "Cost after epoch 23: 0.741896\n",
      "Cost after epoch 24: 0.708226\n",
      "Cost after epoch 25: 0.695861\n",
      "Cost after epoch 26: 0.677257\n",
      "Cost after epoch 27: 0.676863\n",
      "Cost after epoch 28: 0.658015\n",
      "Cost after epoch 29: 0.641632\n",
      "Cost after epoch 30: 0.627207\n",
      "Cost after epoch 31: 0.608725\n",
      "Cost after epoch 32: 0.598284\n",
      "Cost after epoch 33: 0.582100\n",
      "Cost after epoch 34: 0.573150\n",
      "Cost after epoch 35: 0.570333\n",
      "Cost after epoch 36: 0.565738\n",
      "Cost after epoch 37: 0.552079\n",
      "Cost after epoch 38: 0.543875\n",
      "Cost after epoch 39: 0.540925\n",
      "Cost after epoch 40: 0.536953\n",
      "Cost after epoch 41: 0.523124\n",
      "Cost after epoch 42: 0.524368\n",
      "Cost after epoch 43: 0.513573\n",
      "Cost after epoch 44: 0.505310\n",
      "Cost after epoch 45: 0.504865\n",
      "Cost after epoch 46: 0.496549\n",
      "Cost after epoch 47: 0.492761\n",
      "Cost after epoch 48: 0.485944\n",
      "Cost after epoch 49: 0.484698\n",
      "Cost after epoch 50: 0.466526\n",
      "Cost after epoch 51: 0.473497\n",
      "Cost after epoch 52: 0.469514\n",
      "Cost after epoch 53: 0.463566\n",
      "Cost after epoch 54: 0.460736\n",
      "Cost after epoch 55: 0.454343\n",
      "Cost after epoch 56: 0.452205\n",
      "Cost after epoch 57: 0.445272\n",
      "Cost after epoch 58: 0.443167\n",
      "Cost after epoch 59: 0.440954\n",
      "Cost after epoch 60: 0.432102\n",
      "Cost after epoch 61: 0.430687\n",
      "Cost after epoch 62: 0.431212\n",
      "Cost after epoch 63: 0.427699\n",
      "Cost after epoch 64: 0.425276\n",
      "Cost after epoch 65: 0.421787\n",
      "Cost after epoch 66: 0.417086\n",
      "Cost after epoch 67: 0.413996\n",
      "Cost after epoch 68: 0.410623\n",
      "Cost after epoch 69: 0.410149\n",
      "Cost after epoch 70: 0.406390\n",
      "Cost after epoch 71: 0.407760\n",
      "Cost after epoch 72: 0.404952\n",
      "Cost after epoch 73: 0.396242\n",
      "Cost after epoch 74: 0.397545\n",
      "Cost after epoch 75: 0.395589\n",
      "Cost after epoch 76: 0.389441\n",
      "Cost after epoch 77: 0.389390\n",
      "Cost after epoch 78: 0.384452\n",
      "Cost after epoch 79: 0.381120\n",
      "Cost after epoch 80: 0.378031\n",
      "Cost after epoch 81: 0.383157\n",
      "Cost after epoch 82: 0.378689\n",
      "Cost after epoch 83: 0.375812\n",
      "Cost after epoch 84: 0.374587\n",
      "Cost after epoch 85: 0.370665\n",
      "Cost after epoch 86: 0.369985\n",
      "Cost after epoch 87: 0.367397\n",
      "Cost after epoch 88: 0.366048\n",
      "Cost after epoch 89: 0.364059\n",
      "Cost after epoch 90: 0.362636\n",
      "Cost after epoch 91: 0.363662\n",
      "Cost after epoch 92: 0.357868\n",
      "Cost after epoch 93: 0.356463\n",
      "Cost after epoch 94: 0.353032\n",
      "Cost after epoch 95: 0.352550\n",
      "Cost after epoch 96: 0.349435\n",
      "Cost after epoch 97: 0.347815\n",
      "Cost after epoch 98: 0.348907\n",
      "Cost after epoch 99: 0.344834\n"
     ]
    },
    {
     "data": {
      "image/png": "[encoded data removed]",
      "text/plain": [
       "<matplotlib.figure.Figure at 0x2bf206e5320>"
      ]
     },
     "metadata": {},
     "output_type": "display_data"
    },
    {
     "name": "stdout",
     "output_type": "stream",
     "text": [
      "Parameters have been trained!\n",
      "Train accuracy: 93.4%\n",
      "Dev accuracy: 88.5%\n",
      "Test accuracy: 94.0%\n"
     ]
    }
   ],
   "source": [
    "# Let's increase keep_prob to 0.9 to reduce dropout\n",
    "\n",
    "parameters = dl_model_dropout(X_train, Y_train, X_dev, Y_dev, X_test, Y_test, [X_train.shape[1], 1024, Y_train.shape[1]], \n",
    "                      learning_rate = 0.5, keep_prob_val = 0.9, num_epochs = 100, minibatch_size = 128, print_cost = True)"
   ]
  },
  {
   "cell_type": "markdown",
   "metadata": {},
   "source": [
    "Note: Both train and dev accuracies have gone up (though still below accuracies achieved with L2 regularization), but gap between them widened. This indicates we start overfitting and worsening generalization"
   ]
  },
  {
   "cell_type": "code",
   "execution_count": 493,
   "metadata": {
    "collapsed": false
   },
   "outputs": [
    {
     "name": "stdout",
     "output_type": "stream",
     "text": [
      "Cost after epoch 0: 24.496641\n",
      "Cost after epoch 1: 6.719584\n",
      "Cost after epoch 2: 4.256590\n",
      "Cost after epoch 3: 3.120860\n",
      "Cost after epoch 4: 2.425947\n",
      "Cost after epoch 5: 2.056193\n",
      "Cost after epoch 6: 1.743055\n",
      "Cost after epoch 7: 1.499673\n",
      "Cost after epoch 8: 1.337397\n",
      "Cost after epoch 9: 1.215157\n",
      "Cost after epoch 10: 1.096620\n",
      "Cost after epoch 11: 1.000186\n",
      "Cost after epoch 12: 0.937783\n",
      "Cost after epoch 13: 0.879485\n",
      "Cost after epoch 14: 0.828258\n",
      "Cost after epoch 15: 0.761182\n",
      "Cost after epoch 16: 0.733135\n",
      "Cost after epoch 17: 0.702000\n",
      "Cost after epoch 18: 0.671118\n",
      "Cost after epoch 19: 0.638213\n",
      "Cost after epoch 20: 0.613103\n",
      "Cost after epoch 21: 0.598284\n",
      "Cost after epoch 22: 0.581438\n",
      "Cost after epoch 23: 0.555671\n",
      "Cost after epoch 24: 0.546517\n",
      "Cost after epoch 25: 0.533833\n",
      "Cost after epoch 26: 0.506133\n",
      "Cost after epoch 27: 0.503971\n",
      "Cost after epoch 28: 0.483070\n",
      "Cost after epoch 29: 0.475103\n",
      "Cost after epoch 30: 0.455246\n",
      "Cost after epoch 31: 0.451589\n",
      "Cost after epoch 32: 0.441718\n",
      "Cost after epoch 33: 0.433638\n",
      "Cost after epoch 34: 0.422223\n",
      "Cost after epoch 35: 0.417730\n",
      "Cost after epoch 36: 0.412172\n",
      "Cost after epoch 37: 0.404865\n",
      "Cost after epoch 38: 0.392887\n",
      "Cost after epoch 39: 0.385713\n",
      "Cost after epoch 40: 0.383684\n",
      "Cost after epoch 41: 0.374029\n",
      "Cost after epoch 42: 0.372419\n",
      "Cost after epoch 43: 0.372074\n",
      "Cost after epoch 44: 0.364381\n",
      "Cost after epoch 45: 0.355484\n",
      "Cost after epoch 46: 0.353832\n",
      "Cost after epoch 47: 0.346482\n",
      "Cost after epoch 48: 0.343207\n",
      "Cost after epoch 49: 0.335479\n",
      "Cost after epoch 50: 0.327084\n",
      "Cost after epoch 51: 0.329157\n",
      "Cost after epoch 52: 0.324624\n",
      "Cost after epoch 53: 0.319568\n",
      "Cost after epoch 54: 0.313724\n",
      "Cost after epoch 55: 0.313324\n",
      "Cost after epoch 56: 0.307074\n",
      "Cost after epoch 57: 0.306015\n",
      "Cost after epoch 58: 0.300236\n",
      "Cost after epoch 59: 0.297277\n",
      "Cost after epoch 60: 0.292087\n",
      "Cost after epoch 61: 0.296460\n",
      "Cost after epoch 62: 0.290589\n",
      "Cost after epoch 63: 0.292934\n",
      "Cost after epoch 64: 0.283577\n",
      "Cost after epoch 65: 0.279150\n",
      "Cost after epoch 66: 0.276748\n",
      "Cost after epoch 67: 0.279960\n",
      "Cost after epoch 68: 0.274249\n",
      "Cost after epoch 69: 0.274318\n",
      "Cost after epoch 70: 0.275245\n",
      "Cost after epoch 71: 0.273113\n",
      "Cost after epoch 72: 0.268488\n",
      "Cost after epoch 73: 0.261285\n",
      "Cost after epoch 74: 0.260073\n",
      "Cost after epoch 75: 0.256270\n",
      "Cost after epoch 76: 0.253669\n",
      "Cost after epoch 77: 0.252445\n",
      "Cost after epoch 78: 0.250361\n",
      "Cost after epoch 79: 0.245208\n",
      "Cost after epoch 80: 0.246694\n",
      "Cost after epoch 81: 0.238037\n",
      "Cost after epoch 82: 0.241547\n",
      "Cost after epoch 83: 0.242145\n",
      "Cost after epoch 84: 0.235143\n",
      "Cost after epoch 85: 0.235443\n",
      "Cost after epoch 86: 0.234845\n",
      "Cost after epoch 87: 0.232370\n",
      "Cost after epoch 88: 0.231211\n",
      "Cost after epoch 89: 0.232346\n",
      "Cost after epoch 90: 0.231465\n",
      "Cost after epoch 91: 0.226534\n",
      "Cost after epoch 92: 0.229309\n",
      "Cost after epoch 93: 0.222879\n",
      "Cost after epoch 94: 0.220449\n",
      "Cost after epoch 95: 0.221054\n",
      "Cost after epoch 96: 0.218333\n",
      "Cost after epoch 97: 0.213494\n",
      "Cost after epoch 98: 0.217450\n",
      "Cost after epoch 99: 0.212468\n"
     ]
    },
    {
     "data": {
      "image/png": "[encoded data removed]",
      "text/plain": [
       "<matplotlib.figure.Figure at 0x2bf01c86588>"
      ]
     },
     "metadata": {},
     "output_type": "display_data"
    },
    {
     "name": "stdout",
     "output_type": "stream",
     "text": [
      "Parameters have been trained!\n",
      "Train accuracy: 96.8%\n",
      "Dev accuracy: 89.2%\n",
      "Test accuracy: 94.5%\n"
     ]
    }
   ],
   "source": [
    "# Let's increase a bit more keep_prob to 0.95 to reduce even further dropout\n",
    "\n",
    "parameters = dl_model_dropout(X_train, Y_train, X_dev, Y_dev, X_test, Y_test, [X_train.shape[1], 1024, Y_train.shape[1]], \n",
    "                      learning_rate = 0.5, keep_prob_val = 0.95, num_epochs = 100, minibatch_size = 128, print_cost = True)"
   ]
  },
  {
   "cell_type": "markdown",
   "metadata": {},
   "source": [
    "Note: Again, both train and dev accuracies have gone up (and got very close to accuracies achieved with L2 regularization) and,  as expected, gap between them widened even further"
   ]
  },
  {
   "cell_type": "markdown",
   "metadata": {},
   "source": [
    "It seems we have reached some accuracy limits with the current nn, so we are going to try deeper networks, with 2 and 3 hidden layers"
   ]
  },
  {
   "cell_type": "markdown",
   "metadata": {},
   "source": [
    "First, we will update the initialize_parameters function to follow Andrew Ng's guidance on weight initialization for nn. Note: I have tried deeper networks with the original initialize_parameters function and could not improve accuracy"
   ]
  },
  {
   "cell_type": "code",
   "execution_count": 494,
   "metadata": {
    "collapsed": true
   },
   "outputs": [],
   "source": [
    "def initialize_parameters_n(layer_dims):\n",
    "    \"\"\"\n",
    "    Initializes parameters to build a neural network with tensorflow\n",
    "    \n",
    "    Arguments:\n",
    "    layer_dims -- python array (list) containing the dimensions of each layer in our network\n",
    "    \n",
    "    Returns:\n",
    "    variables -- python dictionary containing tensors \"W1\", \"b1\", ..., \"WL\", \"bL\":\n",
    "                    Wl -- weight matrix of shape (layer_dims[l-1], layer_dims[l])\n",
    "                    bl -- bias vector of shape (layer_dims[l],)\n",
    "    \"\"\"\n",
    "    \n",
    "    tf.set_random_seed(1)                   # so to keep consistent results\n",
    "        \n",
    "    parameters = {}\n",
    "    L = len(layer_dims)            # number of layers in the network\n",
    "\n",
    "    for l in range(1, L):\n",
    "        parameters['W' + str(l)] = tf.Variable(tf.random_normal([layer_dims[l-1], layer_dims[l]], stddev = np.sqrt(2 / layer_dims[l-1])), name = 'W' + str(l))\n",
    "        parameters['b' + str(l)] = tf.Variable(tf.zeros([layer_dims[l]]), name = 'b' + str(l))\n",
    "        \n",
    "        assert(parameters['W' + str(l)].get_shape().as_list() == [layer_dims[l-1], layer_dims[l]])\n",
    "        assert(parameters['b' + str(l)].get_shape().as_list() == [layer_dims[l]])\n",
    "\n",
    "    return parameters  "
   ]
  },
  {
   "cell_type": "code",
   "execution_count": 497,
   "metadata": {
    "collapsed": false
   },
   "outputs": [
    {
     "name": "stdout",
     "output_type": "stream",
     "text": [
      "W1 = Tensor(\"W1/read:0\", shape=(5, 4), dtype=float32)\n",
      "b1 = Tensor(\"b1/read:0\", shape=(4,), dtype=float32)\n",
      "W2 = Tensor(\"W2/read:0\", shape=(4, 3), dtype=float32)\n",
      "b2 = Tensor(\"b2/read:0\", shape=(3,), dtype=float32)\n"
     ]
    }
   ],
   "source": [
    "# Try initialize_parameters function\n",
    "\n",
    "tf.reset_default_graph()\n",
    "parameters = initialize_parameters_n([5,4,3])\n",
    "print(\"W1 = \" + str(parameters[\"W1\"]))\n",
    "print(\"b1 = \" + str(parameters[\"b1\"]))\n",
    "print(\"W2 = \" + str(parameters[\"W2\"]))\n",
    "print(\"b2 = \" + str(parameters[\"b2\"]))"
   ]
  },
  {
   "cell_type": "code",
   "execution_count": 498,
   "metadata": {
    "collapsed": true
   },
   "outputs": [],
   "source": [
    "def dl_model_dropout_n(X_train, Y_train, X_dev, Y_dev, X_test, Y_test, layer_dims, learning_rate = 0.5, keep_prob_val = 0.7,\n",
    "          num_epochs = 101, minibatch_size = 128, print_cost = True):\n",
    "    \"\"\"\n",
    "    Implements and trains a N-layer tensorflow neural network: LINEAR->RELU->LINEAR->RELU->...->LINEAR->SOFTMAX.\n",
    "    \n",
    "    Arguments:\n",
    "    X_train -- train set, of shape (m, n_x)\n",
    "    Y_train -- train labels, of shape (m, n_y)\n",
    "    X_dev -- dev set, of shape (m_dev, n_x)\n",
    "    Y_dev -- dev labels, of shape (m_dev, n_y)    \n",
    "    X_test -- test set, of shape (m_test, n_x)\n",
    "    Y_test -- test labels, of shape (m_test, n_y)\n",
    "    layer_dims -- python array (list) containing the dimensions of each layer in our network \n",
    "    learning_rate -- learning rate of the optimization\n",
    "    keep_prob_val -- dropout keep probability value\n",
    "    num_epochs -- number of epochs of the optimization loop\n",
    "    minibatch_size -- size of a minibatch\n",
    "    print_cost -- True to print the cost every epoch\n",
    "    \n",
    "    Returns:\n",
    "    parameters -- parameters learnt by the model. They can then be used to predict.\n",
    "    \"\"\"\n",
    "    \n",
    "    tf.reset_default_graph()\n",
    "    tf.set_random_seed(1)                             # to keep consistent results\n",
    "    seed = 3                                          # to keep consistent results\n",
    "    m = X_train.shape[0]                              # m : number of examples in the train set)\n",
    "    n_x, n_y = layer_dims[0], layer_dims[-1]          # n_x: input size, n_y : output size\n",
    "    num_minibatches = int(m / minibatch_size)         # number of minibatches of size minibatch_size in the train set\n",
    "    costs = []                                        # To keep track of the cost\n",
    "    \n",
    "    # Create Placeholders of shape (n_x, n_y) for training data batches \n",
    "    X, Y = create_placeholders(n_x, n_y)\n",
    "    \n",
    "    # Create Placeholder for keep_prob\n",
    "    keep_prob = tf.placeholder(tf.float32)\n",
    "    \n",
    "    # Initialize parameters\n",
    "    parameters = initialize_parameters_n(layer_dims)\n",
    "    \n",
    "    # Forward propagation: Build the forward propagation in the tensorflow graph\n",
    "    Z = forward_propagation_dropout(X, parameters, keep_prob)\n",
    "    \n",
    "    # Predictions: Add predictions to tensorflow graph\n",
    "    Y_hat = tf.nn.softmax(Z)\n",
    "   \n",
    "    # Cost function: Add cost function to tensorflow graph\n",
    "    cost = compute_cost(Z, Y)\n",
    "    \n",
    "    # Backpropagation: Define the tensorflow optimizer. Use a GradientDescentOptimizer.\n",
    "    optimizer = tf.train.GradientDescentOptimizer(learning_rate = learning_rate).minimize(cost)\n",
    "    \n",
    "    # Initialize all the variables\n",
    "    init = tf.global_variables_initializer()\n",
    "\n",
    "    # Start the session to compute the tensorflow graph\n",
    "    with tf.Session() as sess:\n",
    "        \n",
    "        # Run the initialization\n",
    "        sess.run(init)\n",
    "        batch_cost = 0\n",
    "        n_minibatch = 0\n",
    "        \n",
    "        # Do the training loop\n",
    "        for epoch in range(num_epochs):\n",
    "            epoch_cost = 0.                           # Defines a cost related to an epoch\n",
    "            seed = seed + 1\n",
    "            minibatches = random_minibatches(X_train, Y_train, minibatch_size, seed)\n",
    "\n",
    "            for minibatch in minibatches:\n",
    "                # Select a minibatch\n",
    "                (minibatch_X, minibatch_Y) = minibatch\n",
    "                # Run step\n",
    "                _, minibatch_cost = sess.run([optimizer, cost], feed_dict = {X : minibatch_X, Y : minibatch_Y, keep_prob : keep_prob_val})\n",
    "                # Add minibatch cost to epoch cost\n",
    "                epoch_cost += minibatch_cost / num_minibatches\n",
    "                            \n",
    "            # Print the cost, train accuracy and dev accuracy every 100 minibatches\n",
    "            if print_cost == True:\n",
    "                print (\"Cost after epoch %i: %f\" % (epoch, epoch_cost))\n",
    "                costs.append(epoch_cost)\n",
    "                \n",
    "        # plot the cost\n",
    "        plt.plot(np.squeeze(costs))\n",
    "        plt.ylabel('cost')\n",
    "        plt.xlabel('epochs')\n",
    "        plt.title(\"Learning rate =\" + str(learning_rate))\n",
    "        plt.show()\n",
    "\n",
    "        # Save the parameters in a variable\n",
    "        parameters = sess.run(parameters)\n",
    "        print(\"Parameters have been trained!\")\n",
    "\n",
    "        # Calculate accuracy on the train, dev and test sets\n",
    "        print(\"Train accuracy: %.1f%%\" % accuracy(Y_hat.eval({X : X_train, keep_prob : 1.0}), Y_train))\n",
    "        print(\"Dev accuracy: %.1f%%\" % accuracy(Y_hat.eval({X : X_dev, keep_prob : 1.0}), Y_dev))\n",
    "        print(\"Test accuracy: %.1f%%\" % accuracy(Y_hat.eval({X : X_test, keep_prob : 1.0}), Y_test))\n",
    "      \n",
    "    return parameters"
   ]
  },
  {
   "cell_type": "code",
   "execution_count": 506,
   "metadata": {
    "collapsed": false
   },
   "outputs": [
    {
     "name": "stdout",
     "output_type": "stream",
     "text": [
      "Cost after epoch 0: 0.546643\n",
      "Cost after epoch 1: 0.431025\n",
      "Cost after epoch 2: 0.387420\n",
      "Cost after epoch 3: 0.359873\n",
      "Cost after epoch 4: 0.337841\n",
      "Cost after epoch 5: 0.320671\n",
      "Cost after epoch 6: 0.305118\n",
      "Cost after epoch 7: 0.291096\n",
      "Cost after epoch 8: 0.280076\n",
      "Cost after epoch 9: 0.268931\n"
     ]
    },
    {
     "data": {
      "image/png": "[encoded data removed]",
      "text/plain": [
       "<matplotlib.figure.Figure at 0x2bf24a8c550>"
      ]
     },
     "metadata": {},
     "output_type": "display_data"
    },
    {
     "name": "stdout",
     "output_type": "stream",
     "text": [
      "Parameters have been trained!\n",
      "Train accuracy: 93.5%\n",
      "Dev accuracy: 91.0%\n",
      "Test accuracy: 96.0%\n"
     ]
    }
   ],
   "source": [
    "# Let's try a nn with 2 hidden layers, first with 1024 nodes and second with 256 nodes, dropout with keep_prob = 0.9\n",
    "\n",
    "parameters = dl_model_dropout_n(X_train, Y_train, X_dev, Y_dev, X_test, Y_test, [X_train.shape[1], 1024, 256, Y_train.shape[1]], \n",
    "                      learning_rate = 0.1, keep_prob_val = 0.9, num_epochs = 10, minibatch_size = 128, print_cost = True)"
   ]
  },
  {
   "cell_type": "markdown",
   "metadata": {},
   "source": [
    "Note: Significantly improved train and dev accuracies (highest so far), compared with nn with one hidden layer"
   ]
  },
  {
   "cell_type": "code",
   "execution_count": 500,
   "metadata": {
    "collapsed": false
   },
   "outputs": [
    {
     "name": "stdout",
     "output_type": "stream",
     "text": [
      "Cost after epoch 0: 0.546643\n",
      "Cost after epoch 1: 0.431025\n",
      "Cost after epoch 2: 0.387420\n",
      "Cost after epoch 3: 0.359873\n",
      "Cost after epoch 4: 0.337841\n",
      "Cost after epoch 5: 0.320671\n",
      "Cost after epoch 6: 0.305118\n",
      "Cost after epoch 7: 0.291096\n",
      "Cost after epoch 8: 0.280076\n",
      "Cost after epoch 9: 0.268931\n",
      "Cost after epoch 10: 0.258408\n",
      "Cost after epoch 11: 0.249486\n",
      "Cost after epoch 12: 0.240610\n",
      "Cost after epoch 13: 0.232741\n",
      "Cost after epoch 14: 0.223325\n",
      "Cost after epoch 15: 0.216380\n",
      "Cost after epoch 16: 0.210447\n",
      "Cost after epoch 17: 0.203433\n",
      "Cost after epoch 18: 0.196183\n",
      "Cost after epoch 19: 0.190826\n",
      "Cost after epoch 20: 0.185050\n",
      "Cost after epoch 21: 0.178918\n",
      "Cost after epoch 22: 0.173439\n",
      "Cost after epoch 23: 0.169200\n",
      "Cost after epoch 24: 0.163539\n",
      "Cost after epoch 25: 0.159327\n",
      "Cost after epoch 26: 0.154810\n",
      "Cost after epoch 27: 0.150783\n",
      "Cost after epoch 28: 0.146697\n",
      "Cost after epoch 29: 0.144031\n"
     ]
    },
    {
     "data": {
      "image/png": "[encoded data removed]",
      "text/plain": [
       "<matplotlib.figure.Figure at 0x2bf00fbd748>"
      ]
     },
     "metadata": {},
     "output_type": "display_data"
    },
    {
     "name": "stdout",
     "output_type": "stream",
     "text": [
      "Parameters have been trained!\n",
      "Train accuracy: 98.0%\n",
      "Dev accuracy: 92.0%\n",
      "Test accuracy: 96.7%\n"
     ]
    }
   ],
   "source": [
    "# Let's train the same model longer by increasing num_epochs to 30\n",
    "\n",
    "parameters = dl_model_dropout_n(X_train, Y_train, X_dev, Y_dev, X_test, Y_test, [X_train.shape[1], 1024, 256, Y_train.shape[1]], \n",
    "                      learning_rate = 0.1, keep_prob_val = 0.9, num_epochs = 30, minibatch_size = 128, print_cost = True)"
   ]
  },
  {
   "cell_type": "markdown",
   "metadata": {},
   "source": [
    "Note: as expected, train accuracy increased, and so dev accuracy though in a lesser proportion, widening the gap between train and dev accuracies. This suggests we start overfitting"
   ]
  },
  {
   "cell_type": "code",
   "execution_count": 501,
   "metadata": {
    "collapsed": false
   },
   "outputs": [
    {
     "name": "stdout",
     "output_type": "stream",
     "text": [
      "Cost after epoch 0: 0.593174\n",
      "Cost after epoch 1: 0.477894\n",
      "Cost after epoch 2: 0.437717\n",
      "Cost after epoch 3: 0.411419\n",
      "Cost after epoch 4: 0.393107\n",
      "Cost after epoch 5: 0.376947\n",
      "Cost after epoch 6: 0.363966\n",
      "Cost after epoch 7: 0.352388\n",
      "Cost after epoch 8: 0.343413\n",
      "Cost after epoch 9: 0.333588\n",
      "Cost after epoch 10: 0.325507\n",
      "Cost after epoch 11: 0.318243\n",
      "Cost after epoch 12: 0.312056\n",
      "Cost after epoch 13: 0.306546\n",
      "Cost after epoch 14: 0.298677\n",
      "Cost after epoch 15: 0.294497\n",
      "Cost after epoch 16: 0.290483\n",
      "Cost after epoch 17: 0.284635\n",
      "Cost after epoch 18: 0.279803\n",
      "Cost after epoch 19: 0.274819\n",
      "Cost after epoch 20: 0.271465\n",
      "Cost after epoch 21: 0.266563\n",
      "Cost after epoch 22: 0.262813\n",
      "Cost after epoch 23: 0.259271\n",
      "Cost after epoch 24: 0.254767\n",
      "Cost after epoch 25: 0.251429\n",
      "Cost after epoch 26: 0.248527\n",
      "Cost after epoch 27: 0.244584\n",
      "Cost after epoch 28: 0.242230\n",
      "Cost after epoch 29: 0.238358\n"
     ]
    },
    {
     "data": {
      "image/png": "[encoded data removed]",
      "text/plain": [
       "<matplotlib.figure.Figure at 0x2bf24a81978>"
      ]
     },
     "metadata": {},
     "output_type": "display_data"
    },
    {
     "name": "stdout",
     "output_type": "stream",
     "text": [
      "Parameters have been trained!\n",
      "Train accuracy: 95.2%\n",
      "Dev accuracy: 91.8%\n",
      "Test accuracy: 96.6%\n"
     ]
    }
   ],
   "source": [
    "# Let's decrease keep_prob value to mitigate overfitting and improve generalization\n",
    "\n",
    "parameters = dl_model_dropout_n(X_train, Y_train, X_dev, Y_dev, X_test, Y_test, [X_train.shape[1], 1024, 256, Y_train.shape[1]], \n",
    "                      learning_rate = 0.1, keep_prob_val = 0.8, num_epochs = 30, minibatch_size = 128, print_cost = True)"
   ]
  },
  {
   "cell_type": "markdown",
   "metadata": {},
   "source": [
    "Note: while we have reduced the gap between train and dev accuracies, dev accuracy has gone down slightly, just below 92%"
   ]
  },
  {
   "cell_type": "code",
   "execution_count": 505,
   "metadata": {
    "collapsed": false
   },
   "outputs": [
    {
     "name": "stdout",
     "output_type": "stream",
     "text": [
      "Cost after epoch 0: 0.558310\n",
      "Cost after epoch 1: 0.439645\n",
      "Cost after epoch 2: 0.398109\n",
      "Cost after epoch 3: 0.369557\n",
      "Cost after epoch 4: 0.348495\n",
      "Cost after epoch 5: 0.330649\n",
      "Cost after epoch 6: 0.316616\n",
      "Cost after epoch 7: 0.303233\n",
      "Cost after epoch 8: 0.292922\n",
      "Cost after epoch 9: 0.281002\n",
      "Cost after epoch 10: 0.272378\n",
      "Cost after epoch 11: 0.264549\n",
      "Cost after epoch 12: 0.254601\n",
      "Cost after epoch 13: 0.246890\n",
      "Cost after epoch 14: 0.241884\n",
      "Cost after epoch 15: 0.232474\n",
      "Cost after epoch 16: 0.228999\n",
      "Cost after epoch 17: 0.222149\n",
      "Cost after epoch 18: 0.215724\n",
      "Cost after epoch 19: 0.210826\n",
      "Cost after epoch 20: 0.206017\n",
      "Cost after epoch 21: 0.201093\n",
      "Cost after epoch 22: 0.197012\n",
      "Cost after epoch 23: 0.192230\n",
      "Cost after epoch 24: 0.187584\n",
      "Cost after epoch 25: 0.185155\n",
      "Cost after epoch 26: 0.178678\n",
      "Cost after epoch 27: 0.174847\n",
      "Cost after epoch 28: 0.172677\n",
      "Cost after epoch 29: 0.168645\n",
      "Cost after epoch 30: 0.165700\n",
      "Cost after epoch 31: 0.160906\n",
      "Cost after epoch 32: 0.158174\n",
      "Cost after epoch 33: 0.155325\n",
      "Cost after epoch 34: 0.153000\n",
      "Cost after epoch 35: 0.150656\n",
      "Cost after epoch 36: 0.147972\n",
      "Cost after epoch 37: 0.145224\n",
      "Cost after epoch 38: 0.142363\n",
      "Cost after epoch 39: 0.138943\n",
      "Cost after epoch 40: 0.137546\n",
      "Cost after epoch 41: 0.136401\n",
      "Cost after epoch 42: 0.132552\n",
      "Cost after epoch 43: 0.131566\n",
      "Cost after epoch 44: 0.129729\n",
      "Cost after epoch 45: 0.126936\n",
      "Cost after epoch 46: 0.124693\n",
      "Cost after epoch 47: 0.122718\n",
      "Cost after epoch 48: 0.122096\n",
      "Cost after epoch 49: 0.120116\n"
     ]
    },
    {
     "data": {
      "image/png": "[encoded data removed]",
      "text/plain": [
       "<matplotlib.figure.Figure at 0x2bf2443e978>"
      ]
     },
     "metadata": {},
     "output_type": "display_data"
    },
    {
     "name": "stdout",
     "output_type": "stream",
     "text": [
      "Parameters have been trained!\n",
      "Train accuracy: 98.4%\n",
      "Dev accuracy: 92.1%\n",
      "Test accuracy: 96.7%\n"
     ]
    }
   ],
   "source": [
    "# Let's try now a nn with 3 hidden layers with 1024, 256 and 64 nodes, dropout with keep_prob = 0.9\n",
    "\n",
    "parameters = dl_model_dropout_n(X_train, Y_train, X_dev, Y_dev, X_test, Y_test, [X_train.shape[1], 1024, 256, 64, Y_train.shape[1]], \n",
    "                      learning_rate = 0.1, keep_prob_val = 0.9, num_epochs = 50, minibatch_size = 128, print_cost = True)"
   ]
  },
  {
   "cell_type": "markdown",
   "metadata": {},
   "source": [
    "Note: we have improved both train and dev accuracies (highest so far), but the gap between train and dev accuracies suggest room for improvement"
   ]
  },
  {
   "cell_type": "code",
   "execution_count": 508,
   "metadata": {
    "collapsed": false
   },
   "outputs": [
    {
     "name": "stdout",
     "output_type": "stream",
     "text": [
      "Cost after epoch 0: 0.556951\n",
      "Cost after epoch 1: 0.443422\n",
      "Cost after epoch 2: 0.400926\n",
      "Cost after epoch 3: 0.375232\n",
      "Cost after epoch 4: 0.353893\n",
      "Cost after epoch 5: 0.338666\n",
      "Cost after epoch 6: 0.325284\n",
      "Cost after epoch 7: 0.314518\n",
      "Cost after epoch 8: 0.304519\n",
      "Cost after epoch 9: 0.295632\n",
      "Cost after epoch 10: 0.287222\n",
      "Cost after epoch 11: 0.279407\n",
      "Cost after epoch 12: 0.272766\n",
      "Cost after epoch 13: 0.266286\n",
      "Cost after epoch 14: 0.260449\n",
      "Cost after epoch 15: 0.254256\n",
      "Cost after epoch 16: 0.249639\n",
      "Cost after epoch 17: 0.244864\n",
      "Cost after epoch 18: 0.240013\n",
      "Cost after epoch 19: 0.236455\n",
      "Cost after epoch 20: 0.233700\n",
      "Cost after epoch 21: 0.226849\n",
      "Cost after epoch 22: 0.224807\n",
      "Cost after epoch 23: 0.220142\n",
      "Cost after epoch 24: 0.216925\n",
      "Cost after epoch 25: 0.213812\n",
      "Cost after epoch 26: 0.211106\n",
      "Cost after epoch 27: 0.206263\n",
      "Cost after epoch 28: 0.204913\n",
      "Cost after epoch 29: 0.201039\n",
      "Cost after epoch 30: 0.201461\n",
      "Cost after epoch 31: 0.196479\n",
      "Cost after epoch 32: 0.194381\n",
      "Cost after epoch 33: 0.190030\n",
      "Cost after epoch 34: 0.189078\n",
      "Cost after epoch 35: 0.185651\n",
      "Cost after epoch 36: 0.184463\n",
      "Cost after epoch 37: 0.180386\n",
      "Cost after epoch 38: 0.180812\n",
      "Cost after epoch 39: 0.177112\n",
      "Cost after epoch 40: 0.176269\n",
      "Cost after epoch 41: 0.173114\n",
      "Cost after epoch 42: 0.171263\n",
      "Cost after epoch 43: 0.167951\n",
      "Cost after epoch 44: 0.167733\n",
      "Cost after epoch 45: 0.166122\n",
      "Cost after epoch 46: 0.164173\n",
      "Cost after epoch 47: 0.162308\n",
      "Cost after epoch 48: 0.161415\n",
      "Cost after epoch 49: 0.159409\n"
     ]
    },
    {
     "data": {
      "image/png": "[encoded data removed]",
      "text/plain": [
       "<matplotlib.figure.Figure at 0x2bf24afb860>"
      ]
     },
     "metadata": {},
     "output_type": "display_data"
    },
    {
     "name": "stdout",
     "output_type": "stream",
     "text": [
      "Parameters have been trained!\n",
      "Train accuracy: 97.3%\n",
      "Dev accuracy: 91.8%\n",
      "Test accuracy: 96.6%\n"
     ]
    }
   ],
   "source": [
    "# Let's try finally the same nn with 3 hidden layers, increasing dropout, with keep_prob = 0.85, and adjusting learning_rate = 0.2\n",
    "\n",
    "parameters = dl_model_dropout_n(X_train, Y_train, X_dev, Y_dev, X_test, Y_test, [X_train.shape[1], 1024, 256, 64, Y_train.shape[1]], \n",
    "                      learning_rate = 0.2, keep_prob_val = 0.85, num_epochs = 50, minibatch_size = 128, print_cost = True)"
   ]
  }
 ],
 "metadata": {
  "colab": {
   "default_view": {},
   "name": "3_regularization.ipynb",
   "provenance": [],
   "version": "0.3.2",
   "views": {}
  },
  "kernelspec": {
   "display_name": "Python 3",
   "language": "python",
   "name": "python3"
  },
  "language_info": {
   "codemirror_mode": {
    "name": "ipython",
    "version": 3
   },
   "file_extension": ".py",
   "mimetype": "text/x-python",
   "name": "python",
   "nbconvert_exporter": "python",
   "pygments_lexer": "ipython3",
   "version": "3.5.2"
  }
 },
 "nbformat": 4,
 "nbformat_minor": 0
}
